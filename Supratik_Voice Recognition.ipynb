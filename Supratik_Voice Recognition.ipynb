{
 "cells": [
  {
   "attachments": {},
   "cell_type": "markdown",
   "metadata": {},
   "source": [
    "# Project 7 Report\n",
    "## Team members:\n",
    "## Christopher Higgs\n",
    "## Supratik Chanda\n",
    "\n",
    "## Introduction:\n",
    "\n",
    "###  Gender Recognition by Voice and Speech Analysis:\n",
    "### This database was created to identify a voice as male or female, based upon acoustic properties of the voice and speech. The dataset consists of 3,168 recorded voice samples, collected from male and female speakers. The voice samples are pre-processed by acoustic analysis in R using the seewave and tuneR packages, with an analyzed frequency range of 0hz-280hz (human vocal range).\n",
    "\n",
    "## Dataset:\n",
    "### The following acoustic properties of each voice are measured and included within the CSV:\n",
    "\n",
    "### meanfreq: mean frequency (in kHz)\n",
    "### sd: standard deviation of frequency\n",
    "### median: median frequency (in kHz)\n",
    "### Q25: first quantile (in kHz)\n",
    "### Q75: third quantile (in kHz)\n",
    "### IQR: interquantile range (in kHz)\n",
    "### skew: skewness (see note in specprop description)\n",
    "### kurt: kurtosis (see note in specprop description)\n",
    "### sp.ent: spectral entropy\n",
    "### sfm: spectral flatness\n",
    "### mode: mode frequency\n",
    "### centroid: frequency centroid (see specprop)\n",
    "### peakf: peak frequency (frequency with highest energy)\n",
    "### meanfun: average of fundamental frequency measured across acoustic signal\n",
    "### minfun: minimum fundamental frequency measured across acoustic signal\n",
    "### maxfun: maximum fundamental frequency measured across acoustic signal\n",
    "### meandom: average of dominant frequency measured across acoustic signal\n",
    "### mindom: minimum of dominant frequency measured across acoustic signal\n",
    "### maxdom: maximum of dominant frequency measured across acoustic signal\n",
    "### dfrange: range of dominant frequency measured across acoustic signal\n",
    "### modindx: modulation index. Calculated as the accumulated absolute difference between adjacent measurements of fundamental frequencies divided by the frequency range\n",
    "### label: male or female\n",
    "\n",
    "# Analysis Technique\n",
    "\n",
    "### Steps:\n",
    "#### 1)At first , each X features column had dollar sign which was cleansed   and the data type was changed from object to float64.\n",
    "#### 2) We then checked for any duplicate values in the dataset and removed any duplicate values\n",
    "#### 2)Then, we used SelectKBest features from feature_selection package of scikit-learn to select which features should be taken. The SelectKBest features gives an array of score_values in precentage and another array of p_values . Whosoevers' score or p_value is greater , it has a deeper effect on the Y_label. So, we took column name \"kurt\"(p-0.00 and score-119.87) to \"mindom\"(p-0.00 and score-9.86). The score_function are chi2 and f_classif. We took chi2 and went ahead with the score func for finding the accuracy,precision and f1_score and confusion_matrix.\n",
    "\n",
    "# Logistic Regression: \n",
    "#### We divided the dataset into train_set and test_set and then performed training and testing of the data. At first, we used LabelEncoder for the Y_Label but then we found out that without encoding also, the performance is not decreasing. Hence, we went without encoding for determining the Label.\n",
    "\n",
    "#### After that, We used GridSearchCV and RandomizedSearchCV to find out which produces the most accuracy and has the least execution time. We found out that RandomizedSearchCV is the most efficient model_selection technique and the execution time is the quickest. The following analysis is done using RandomizedSearchCV.\n",
    "\n",
    "#### We used Multi-Class \"OVR\" and multi-class \"multinomial\" to find out which class is the best for generalization . Realized that One over Rest is the best approach.\n",
    "#### OVR has the following results:\n",
    "\n",
    "<img src='pic1.png' style='height:150px'/>\n",
    " \n",
    "#### Multinomial has the following results:\n",
    "\n",
    "<img src='LR_1.png' style='height:40px'/>\n",
    "\n",
    "#### We also found out the precision, f_score and confusion_matrix (shown below) to find out the total  number of incorrect predictions for OVR approach\n",
    "\n",
    "<img src='LR_2.png' style='height:100px'/>\n",
    "\n",
    "# 7) The next model was SVM Linear:\n",
    "\n",
    "### Taking all the values of C and checking out the accuracy score with kernel as linear.\n",
    "#### The C parameter tells the SVM optimization how much you want to avoid misclassifying each training example. For large values of C, the optimization will choose a smaller-margin hyperplane if that hyperplane does a better job of getting all the training points classified correctly. Conversely, a very small value of C will cause the optimizer to look for a larger-margin separating hyperplane, even if that hyperplane misclassifies more points.\n",
    "\n",
    "#### Thus for a very large values we can cause overfitting of the model and for a very small value of C we can cause underfitting.Thus the value of C must be chosen in such a manner that it generalised the unseen data well.From the above plot we can see that accuracy has been close to 97% for C=1, C=5 and C=6 and then it drops around 96.8% and remains constant.\n",
    "\n",
    "<img src='SVM_LINEAR.png' style='height:200px'/>\n",
    "\n",
    "#### Once done,we  used the C values with  GridSearchCV and RandomizedSearchCV to find out the accuracy and f1_score.\n",
    "#### Surprisingly, we found out that RandomizedCV took less time than GridsearchCV. The time for GridSearchCV was 117ms and that of RandomizedSearchCV was 11ms. \n",
    "#### We went ahead with our analysis with RandomizedSearchCV\n",
    "\n",
    "<img src='linear.png' style='height:200px'/>\n",
    "\n",
    "#### We used predict_proba function to find out what are the probabilities of the predicted values. We found out that there are four incorrect predictions. The figure and analysis is given in the results\n",
    "\n",
    "# Next: SVM RBF\n",
    "#### Taking kernel as rbf and taking different values gamma\n",
    "#### Technically, the gamma parameter is the inverse of the standard deviation of the RBF kernel (Gaussian function), which is used as similarity measure between two points. Intuitively, a small gamma value define a Gaussian function with a large variance. In this case, two points can be considered similar even if are far from each other. In the other hand, a large gamma value means define a Gaussian function with a small variance and in this case, two points are considered similar just if they are close to each other\n",
    "#### We saw that for gamma=10 and 100 the kernel is performing poorly.We  also saw a slight dip in accuracy score when gamma is 1.\n",
    "#### Once done, we used the RandomizedSearchCV as the grid_search model_selectionand passed gamma value=0.01 and a list of class weights inside the param_grids as paramaters. We found out that changing the class weight from {0:1} to {0:6} decreases the accuracy.Hence, stuck with class_weight {0:1}\n",
    "\n",
    "<img src='grid_score_poly_1.png' style='height:300px'/>\n",
    "\n",
    "#### The execution time was also very less and went on to find the precision,f_score and accuracy for the model.\n",
    "#### Also used the predict_proba method to find out the probabilities of all predictions.\n",
    "#### Used Confusion_mtarix to find the total number of incorrect predictions and also used boxplots to visually figure out the range of the probabilities for both the correct and the incorrect predictions\n",
    "\n",
    "<img src='svm_rbf_matrix.png' style='height:100px'/>\n",
    "\n",
    " \n",
    "\n",
    "# NEXT SVM POLY\n",
    "#### Taking kernel as poly and different values of polynomial degree\n",
    "#### We first used cross-validation to find out which polynomial degree is the best for attaining the best accuracy_score\n",
    "\n",
    "<img src='poly_pic.png' style='height:200px'/>\n",
    "    \n",
    "#### Then, we used that degree, gamma and class weights as parameters in RandomizedSearchCV to find out the class weight for the best accuracy score.\n",
    "\n",
    "<img src='grid_score_poly.png' style='height:200px'/>\n",
    "\n",
    "#### We also found the execution time for RandomizedSearchCV.\n",
    "\n",
    "<img src='poly_time.png' style='height:40px'/>\n",
    "\n",
    "#### After that, we analysed the total number of incorrect predictions using confusion_matrix\n",
    "\n",
    "<img src='svm_poly_matrix.png' style='height:100px'/>\n",
    "\n",
    " #### Also used the predict_proba method to find out the probabilities of all predictions and applied boxplots to visually figure out the range of the probabilities for both the correct and the incorrect predictions\n"
   ]
  },
  {
   "cell_type": "markdown",
   "metadata": {},
   "source": [
    "# Results:\n",
    "#### The dataset Cleansing:\n",
    "#### The Voice Recognition Dataset before cleansing:\n",
    "<img src='result_3.png' style='height:400px'/>\n",
    "\n",
    "#### The dataset after cleansing 'S' symbol and converting the object datatype to float datatype\n",
    "\n",
    "<img src='result_4.png' style='height:400px'/>\n",
    "\n",
    "#### The feature_selection technique used is SelectKBest; chosen among SeleckBest and SelectPrecentile . The function_score tested are chi2 and f_classify and found out the chi2 gives more distinct p_values and score\n",
    "\n",
    "<img src='result_1.png' style='height:500px'/>\n",
    "\n",
    "#### Displayed as a dataframe\n",
    "\n",
    "<img src='result_2.png' style='height:500px'/>\n",
    "\n",
    "#### Took features from  kurt to mindom whose p_value was significant\n",
    "\n",
    "## Logistic Regression\n",
    "\n",
    "#### Grid SearchCV results and execution time(multi-class=OVR):\n",
    "\n",
    "<img src='LR_OVR.png' style='height:200px'/>\n",
    "\n",
    "#### Test accuracy:\n",
    "\n",
    "<img src='LR_OVR_GRID_Test_accuracy.png' style='height:60px'/> \n",
    "\n",
    "#### Randomized SearchCV results and execution time(multi-class=OVR):\n",
    "\n",
    "<img src='LR_multiclass_randomized.png' style='height:200px'/>\n",
    "\n",
    "#### Test accuracy:\n",
    "\n",
    "<img src='LR_multiclass_randomized_test_accuracy.png' style='height:50px'/> \n",
    "\n",
    "#### Both accuracy is exactly the same . The only difference is the execution time. Randomized SearchCV has much lesser execution time. So. we went with RandomizedCV and below are the results\n",
    "\n",
    "#### The overall scores:\n",
    "\n",
    "<img src='result_7.png' style='height:100px'/> \n",
    "\n",
    "#### The dataframe containing values with incorrect predictions and their probability.\n",
    "#### 0 = female,1=male\n",
    "\n",
    "<img src='predict_proba_LR.png' style='height:400px'/>\n",
    "\n",
    "#### The decision boundary seperating the predicted values \n",
    "\n",
    "<img src='result_6.png' style='height:300px'/>\n",
    "\n",
    "#### Now, Lets see the Score for multi-class=multinomial using RandomizedCV:\n",
    "\n",
    "<img src='result_8.png' style='height:100px'/>\n",
    "\n",
    "<img src='result_9.png' style='height:100px'/>\n",
    "\n",
    "#### Hence, we see that OVR is the best approach for Logistic Regression\n",
    "\n",
    "# SVM KERNEL=LINEAR\n",
    "\n",
    "#### Analysing the accuracy score with different values of C\n",
    "<img src='SVM_linearPic_1.png' style='height:300px'/>\n",
    "<img src='SVM_linearPic_2.png' style='height:300px'/>\n",
    "\n",
    "#### Going ahead with the C-Value  which produces the most accuracy.Then feeding the C-value in GridSearchCV and RandomizedSearchCV:\n",
    "#### Scores,execution time and test_accuracy for GridSearchCV:\n",
    "\n",
    "<img src='SVM_linear_grid.png' style='height:100px'/>\n",
    "<img src='SVM_linear_grid_2.png' style='height:50px'/>\n",
    "\n",
    "#### Scores, execution time and test_accuracy for RandomizedSearchCV:\n",
    "\n",
    "<img src='SVM_linear_grid_3.png' style='height:200px'/>\n",
    "<img src='SVM_linear_grid_4.png' style='height:60px'/>\n",
    "#### The accuracy is a bit lower but the execution time is much lesser and hence, we are using RandomizedSearchCV.\n",
    "\n",
    "<img src='SVM_linear_grid_5.png' style='height:100px'/>\n",
    "\n",
    "\n",
    "#### Then we found out the shape of the dataframe containing the incorrect values and found out the total  incorrect values to be 8 .\n",
    "#### The linechart  of the predict_probabilties is shown below :\n",
    "#### X and Y axis are the probabilities of the predicted values\n",
    "\n",
    "<img src='SVM_linear_grid_6.png' style='height:500px'/>\n",
    "\n",
    "# SVM KERNEL=RBF\n",
    "#### Analyzing the accuracy score with different values of gamma\n",
    "<img src='rbf_1.png' style='height:300px'/>\n",
    "<img src='rbf_2.png' style='height:300px'/>\n",
    "#### We found out that gamma value 0.01 gives the highest accuracy.\n",
    "#### Hence, we give the gamma value along with other values as parameter to RandomizedSearchCV and see the results:\n",
    "\n",
    "<img src='rbf_3.png' style='height:300px'/>\n",
    "\n",
    "#### We see that calss weight{0:1} gives the best prediction\n",
    "\n",
    "#### Then we go ahead with class weight =0:1 and use RandomizedSearchCV:\n",
    "\n",
    "<img src='rbf_4.png' style='height:200px'/>\n",
    "\n",
    "#### Test Accuracy:\n",
    "\n",
    "<img src='rbf_5.png' style='height:40px'/>\n",
    "\n",
    "#### other results:\n",
    "<img src='rbf_6.png' style='height:100px'/>\n",
    "#### Then, we used the predict_proba method of RandomizedSearchCV to find out the probablity of each predicted value.\n",
    "#### Boxplot showing the probability  range of the incorrect and correct predicted values\n",
    "\n",
    "<img src='rbf_7.png' style='height:300px'/>\n",
    "#### 1 implies Actual values are not equal to Predicted Values\n",
    "#### 0 implies Actual values equal to Predicted Values\n",
    "#### Here we see  see that the  predicted values which are correct has a  greater  probability\n",
    "\n",
    "# SVM KERNEL=POLY\n",
    "#### Analyzing the accuracy score with different values of polynomial degree\n",
    "\n",
    "<img src='poly_1.png' style='height:300px'/>\n",
    "<img src='poly_2.png' style='height:300px'/>\n",
    "\n",
    "#### We found out that degree value 3 gives the highest accuracy.\n",
    "#### Hence, we give the degree value along with other values as parameter to RandomizedSearchCV and see the results:\n",
    "\n",
    "<img src='poly_3.png' style='height:300px'/>\n",
    "\n",
    "#### Since class_weight {0:1} has the greatest grid_score, we go ahead with class weight =0:1 and use RandomizedSearchCV:\n",
    "\n",
    "<img src='poly_4.png' style='height:100px'/>\n",
    "\n",
    "#### Test Accuracy:\n",
    "\n",
    "<img src='poly_5.png' style='height:40px'/>\n",
    "\n",
    "#### The confusion matrix result as shown below:\n",
    "\n",
    "<img src='poly_6.png' style='height:100px'/>\n",
    "#### The incorrect values total is 13.\n",
    "\n",
    "#### The next dataframe is the dataframe of incorrect predicted values and their predicted proababilities of being the incorrect  one\n",
    "<img src='poly_7.png' style='height:400px'/>\n",
    "\n",
    "#### Then, we used the predict_proba method of RandomizedSearchCV to find out the probablity of each predicted value.\n",
    "#### Boxplot showing the probability  range of the incorrect and correct predicted values\n",
    "<img src='poly_8.png' style='height:400px'/>\n",
    "\n",
    "#### 1 implies Actual values are not equal to Predicted Values\n",
    "#### 0 implies Actual values equal to Predicted Values\n",
    "#### Here we see  see that the  predicted values which are correct has a  greater  probability\n"
   ]
  },
  {
   "cell_type": "code",
   "execution_count": 199,
   "metadata": {},
   "outputs": [],
   "source": [
    "import pandas as pd\n",
    "import numpy as np\n",
    "import matplotlib.pyplot as plt\n",
    "import seaborn as sns\n",
    "from IPython.display import display\n",
    "from sklearn.model_selection import train_test_split"
   ]
  },
  {
   "cell_type": "code",
   "execution_count": 200,
   "metadata": {},
   "outputs": [
    {
     "data": {
      "text/html": [
       "<div>\n",
       "<style scoped>\n",
       "    .dataframe tbody tr th:only-of-type {\n",
       "        vertical-align: middle;\n",
       "    }\n",
       "\n",
       "    .dataframe tbody tr th {\n",
       "        vertical-align: top;\n",
       "    }\n",
       "\n",
       "    .dataframe thead th {\n",
       "        text-align: right;\n",
       "    }\n",
       "</style>\n",
       "<table border=\"1\" class=\"dataframe\">\n",
       "  <thead>\n",
       "    <tr style=\"text-align: right;\">\n",
       "      <th></th>\n",
       "      <th>meanfreq</th>\n",
       "      <th>sd</th>\n",
       "      <th>median</th>\n",
       "      <th>Q25</th>\n",
       "      <th>Q75</th>\n",
       "      <th>IQR</th>\n",
       "      <th>skew</th>\n",
       "      <th>kurt</th>\n",
       "      <th>sp.ent</th>\n",
       "      <th>sfm</th>\n",
       "      <th>...</th>\n",
       "      <th>centroid</th>\n",
       "      <th>meanfun</th>\n",
       "      <th>minfun</th>\n",
       "      <th>maxfun</th>\n",
       "      <th>meandom</th>\n",
       "      <th>mindom</th>\n",
       "      <th>maxdom</th>\n",
       "      <th>dfrange</th>\n",
       "      <th>modindx</th>\n",
       "      <th>label</th>\n",
       "    </tr>\n",
       "  </thead>\n",
       "  <tbody>\n",
       "    <tr>\n",
       "      <th>0</th>\n",
       "      <td>$0.06</td>\n",
       "      <td>$0.06</td>\n",
       "      <td>$0.03</td>\n",
       "      <td>$0.02</td>\n",
       "      <td>$0.09</td>\n",
       "      <td>$0.08</td>\n",
       "      <td>$12.86</td>\n",
       "      <td>$274.40</td>\n",
       "      <td>$0.89</td>\n",
       "      <td>$0.49</td>\n",
       "      <td>...</td>\n",
       "      <td>$0.06</td>\n",
       "      <td>$0.08</td>\n",
       "      <td>$0.02</td>\n",
       "      <td>$0.28</td>\n",
       "      <td>$0.01</td>\n",
       "      <td>$0.01</td>\n",
       "      <td>$0.01</td>\n",
       "      <td>$0.00</td>\n",
       "      <td>$0.00</td>\n",
       "      <td>male</td>\n",
       "    </tr>\n",
       "    <tr>\n",
       "      <th>1</th>\n",
       "      <td>$0.07</td>\n",
       "      <td>$0.07</td>\n",
       "      <td>$0.04</td>\n",
       "      <td>$0.02</td>\n",
       "      <td>$0.09</td>\n",
       "      <td>$0.07</td>\n",
       "      <td>$22.42</td>\n",
       "      <td>$634.61</td>\n",
       "      <td>$0.89</td>\n",
       "      <td>$0.51</td>\n",
       "      <td>...</td>\n",
       "      <td>$0.07</td>\n",
       "      <td>$0.11</td>\n",
       "      <td>$0.02</td>\n",
       "      <td>$0.25</td>\n",
       "      <td>$0.01</td>\n",
       "      <td>$0.01</td>\n",
       "      <td>$0.05</td>\n",
       "      <td>$0.05</td>\n",
       "      <td>$0.05</td>\n",
       "      <td>male</td>\n",
       "    </tr>\n",
       "    <tr>\n",
       "      <th>2</th>\n",
       "      <td>$0.08</td>\n",
       "      <td>$0.08</td>\n",
       "      <td>$0.04</td>\n",
       "      <td>$0.01</td>\n",
       "      <td>$0.13</td>\n",
       "      <td>$0.12</td>\n",
       "      <td>$30.76</td>\n",
       "      <td>$1,024.93</td>\n",
       "      <td>$0.85</td>\n",
       "      <td>$0.48</td>\n",
       "      <td>...</td>\n",
       "      <td>$0.08</td>\n",
       "      <td>$0.10</td>\n",
       "      <td>$0.02</td>\n",
       "      <td>$0.27</td>\n",
       "      <td>$0.01</td>\n",
       "      <td>$0.01</td>\n",
       "      <td>$0.02</td>\n",
       "      <td>$0.01</td>\n",
       "      <td>$0.05</td>\n",
       "      <td>male</td>\n",
       "    </tr>\n",
       "    <tr>\n",
       "      <th>3</th>\n",
       "      <td>$0.15</td>\n",
       "      <td>$0.07</td>\n",
       "      <td>$0.16</td>\n",
       "      <td>$0.10</td>\n",
       "      <td>$0.21</td>\n",
       "      <td>$0.11</td>\n",
       "      <td>$1.23</td>\n",
       "      <td>$4.18</td>\n",
       "      <td>$0.96</td>\n",
       "      <td>$0.73</td>\n",
       "      <td>...</td>\n",
       "      <td>$0.15</td>\n",
       "      <td>$0.09</td>\n",
       "      <td>$0.02</td>\n",
       "      <td>$0.25</td>\n",
       "      <td>$0.20</td>\n",
       "      <td>$0.01</td>\n",
       "      <td>$0.56</td>\n",
       "      <td>$0.55</td>\n",
       "      <td>$0.25</td>\n",
       "      <td>male</td>\n",
       "    </tr>\n",
       "    <tr>\n",
       "      <th>4</th>\n",
       "      <td>$0.14</td>\n",
       "      <td>$0.08</td>\n",
       "      <td>$0.12</td>\n",
       "      <td>$0.08</td>\n",
       "      <td>$0.21</td>\n",
       "      <td>$0.13</td>\n",
       "      <td>$1.10</td>\n",
       "      <td>$4.33</td>\n",
       "      <td>$0.97</td>\n",
       "      <td>$0.78</td>\n",
       "      <td>...</td>\n",
       "      <td>$0.14</td>\n",
       "      <td>$0.11</td>\n",
       "      <td>$0.02</td>\n",
       "      <td>$0.27</td>\n",
       "      <td>$0.71</td>\n",
       "      <td>$0.01</td>\n",
       "      <td>$5.48</td>\n",
       "      <td>$5.48</td>\n",
       "      <td>$0.21</td>\n",
       "      <td>male</td>\n",
       "    </tr>\n",
       "  </tbody>\n",
       "</table>\n",
       "<p>5 rows × 21 columns</p>\n",
       "</div>"
      ],
      "text/plain": [
       "   meanfreq    sd  median   Q25   Q75   IQR   skew      kurt  sp.ent   sfm  \\\n",
       "0     $0.06 $0.06   $0.03 $0.02 $0.09 $0.08 $12.86   $274.40   $0.89 $0.49   \n",
       "1     $0.07 $0.07   $0.04 $0.02 $0.09 $0.07 $22.42   $634.61   $0.89 $0.51   \n",
       "2     $0.08 $0.08   $0.04 $0.01 $0.13 $0.12 $30.76 $1,024.93   $0.85 $0.48   \n",
       "3     $0.15 $0.07   $0.16 $0.10 $0.21 $0.11  $1.23     $4.18   $0.96 $0.73   \n",
       "4     $0.14 $0.08   $0.12 $0.08 $0.21 $0.13  $1.10     $4.33   $0.97 $0.78   \n",
       "\n",
       "   ...    centroid  meanfun  minfun  maxfun  meandom  mindom  maxdom  dfrange  \\\n",
       "0  ...       $0.06    $0.08   $0.02   $0.28    $0.01   $0.01   $0.01    $0.00   \n",
       "1  ...       $0.07    $0.11   $0.02   $0.25    $0.01   $0.01   $0.05    $0.05   \n",
       "2  ...       $0.08    $0.10   $0.02   $0.27    $0.01   $0.01   $0.02    $0.01   \n",
       "3  ...       $0.15    $0.09   $0.02   $0.25    $0.20   $0.01   $0.56    $0.55   \n",
       "4  ...       $0.14    $0.11   $0.02   $0.27    $0.71   $0.01   $5.48    $5.48   \n",
       "\n",
       "   modindx  label  \n",
       "0    $0.00   male  \n",
       "1    $0.05   male  \n",
       "2    $0.05   male  \n",
       "3    $0.25   male  \n",
       "4    $0.21   male  \n",
       "\n",
       "[5 rows x 21 columns]"
      ]
     },
     "execution_count": 200,
     "metadata": {},
     "output_type": "execute_result"
    }
   ],
   "source": [
    "df =pd.read_csv('VoiceRecognition.csv')\n",
    "df.head()"
   ]
  },
  {
   "cell_type": "code",
   "execution_count": 201,
   "metadata": {},
   "outputs": [
    {
     "data": {
      "text/plain": [
       "array(['meanfreq', 'sd', 'median', 'Q25', 'Q75', 'IQR', 'skew', 'kurt',\n",
       "       'sp.ent', 'sfm', 'mode', 'centroid', 'meanfun', 'minfun', 'maxfun',\n",
       "       'meandom', 'mindom', 'maxdom', 'dfrange', 'modindx', 'label'],\n",
       "      dtype=object)"
      ]
     },
     "execution_count": 201,
     "metadata": {},
     "output_type": "execute_result"
    }
   ],
   "source": [
    "df.columns.values"
   ]
  },
  {
   "cell_type": "code",
   "execution_count": 202,
   "metadata": {},
   "outputs": [
    {
     "data": {
      "text/html": [
       "<div>\n",
       "<style scoped>\n",
       "    .dataframe tbody tr th:only-of-type {\n",
       "        vertical-align: middle;\n",
       "    }\n",
       "\n",
       "    .dataframe tbody tr th {\n",
       "        vertical-align: top;\n",
       "    }\n",
       "\n",
       "    .dataframe thead th {\n",
       "        text-align: right;\n",
       "    }\n",
       "</style>\n",
       "<table border=\"1\" class=\"dataframe\">\n",
       "  <thead>\n",
       "    <tr style=\"text-align: right;\">\n",
       "      <th></th>\n",
       "      <th>meanfreq</th>\n",
       "      <th>sd</th>\n",
       "      <th>median</th>\n",
       "      <th>Q25</th>\n",
       "      <th>Q75</th>\n",
       "      <th>IQR</th>\n",
       "      <th>skew</th>\n",
       "      <th>kurt</th>\n",
       "      <th>sp.ent</th>\n",
       "      <th>sfm</th>\n",
       "      <th>...</th>\n",
       "      <th>centroid</th>\n",
       "      <th>meanfun</th>\n",
       "      <th>minfun</th>\n",
       "      <th>maxfun</th>\n",
       "      <th>meandom</th>\n",
       "      <th>mindom</th>\n",
       "      <th>maxdom</th>\n",
       "      <th>dfrange</th>\n",
       "      <th>modindx</th>\n",
       "      <th>label</th>\n",
       "    </tr>\n",
       "  </thead>\n",
       "  <tbody>\n",
       "    <tr>\n",
       "      <th>298</th>\n",
       "      <td>$0.21</td>\n",
       "      <td>$0.06</td>\n",
       "      <td>$0.24</td>\n",
       "      <td>$0.14</td>\n",
       "      <td>$0.26</td>\n",
       "      <td>$0.12</td>\n",
       "      <td>$2.11</td>\n",
       "      <td>$7.89</td>\n",
       "      <td>$0.86</td>\n",
       "      <td>$0.08</td>\n",
       "      <td>...</td>\n",
       "      <td>$0.21</td>\n",
       "      <td>$0.13</td>\n",
       "      <td>$0.03</td>\n",
       "      <td>$0.25</td>\n",
       "      <td>$0.82</td>\n",
       "      <td>$0.13</td>\n",
       "      <td>$4.16</td>\n",
       "      <td>$4.03</td>\n",
       "      <td>$0.23</td>\n",
       "      <td>male</td>\n",
       "    </tr>\n",
       "    <tr>\n",
       "      <th>2403</th>\n",
       "      <td>$0.21</td>\n",
       "      <td>$0.04</td>\n",
       "      <td>$0.22</td>\n",
       "      <td>$0.19</td>\n",
       "      <td>$0.25</td>\n",
       "      <td>$0.06</td>\n",
       "      <td>$1.86</td>\n",
       "      <td>$6.11</td>\n",
       "      <td>$0.88</td>\n",
       "      <td>$0.31</td>\n",
       "      <td>...</td>\n",
       "      <td>$0.21</td>\n",
       "      <td>$0.14</td>\n",
       "      <td>$0.05</td>\n",
       "      <td>$0.28</td>\n",
       "      <td>$1.93</td>\n",
       "      <td>$0.02</td>\n",
       "      <td>$15.61</td>\n",
       "      <td>$15.59</td>\n",
       "      <td>$0.12</td>\n",
       "      <td>female</td>\n",
       "    </tr>\n",
       "  </tbody>\n",
       "</table>\n",
       "<p>2 rows × 21 columns</p>\n",
       "</div>"
      ],
      "text/plain": [
       "      meanfreq    sd  median   Q25   Q75   IQR  skew  kurt  sp.ent   sfm  \\\n",
       "298      $0.21 $0.06   $0.24 $0.14 $0.26 $0.12 $2.11 $7.89   $0.86 $0.08   \n",
       "2403     $0.21 $0.04   $0.22 $0.19 $0.25 $0.06 $1.86 $6.11   $0.88 $0.31   \n",
       "\n",
       "       ...    centroid  meanfun  minfun  maxfun  meandom  mindom  maxdom  \\\n",
       "298    ...       $0.21    $0.13   $0.03   $0.25    $0.82   $0.13   $4.16   \n",
       "2403   ...       $0.21    $0.14   $0.05   $0.28    $1.93   $0.02  $15.61   \n",
       "\n",
       "      dfrange  modindx   label  \n",
       "298     $4.03    $0.23    male  \n",
       "2403   $15.59    $0.12  female  \n",
       "\n",
       "[2 rows x 21 columns]"
      ]
     },
     "execution_count": 202,
     "metadata": {},
     "output_type": "execute_result"
    }
   ],
   "source": [
    "df[df.duplicated(keep='first')]"
   ]
  },
  {
   "cell_type": "code",
   "execution_count": 203,
   "metadata": {},
   "outputs": [],
   "source": [
    "df.drop_duplicates(inplace=True)"
   ]
  },
  {
   "cell_type": "code",
   "execution_count": 204,
   "metadata": {},
   "outputs": [
    {
     "data": {
      "text/html": [
       "<div>\n",
       "<style scoped>\n",
       "    .dataframe tbody tr th:only-of-type {\n",
       "        vertical-align: middle;\n",
       "    }\n",
       "\n",
       "    .dataframe tbody tr th {\n",
       "        vertical-align: top;\n",
       "    }\n",
       "\n",
       "    .dataframe thead th {\n",
       "        text-align: right;\n",
       "    }\n",
       "</style>\n",
       "<table border=\"1\" class=\"dataframe\">\n",
       "  <thead>\n",
       "    <tr style=\"text-align: right;\">\n",
       "      <th></th>\n",
       "      <th>meanfreq</th>\n",
       "      <th>sd</th>\n",
       "      <th>median</th>\n",
       "      <th>Q25</th>\n",
       "      <th>Q75</th>\n",
       "      <th>IQR</th>\n",
       "      <th>skew</th>\n",
       "      <th>kurt</th>\n",
       "      <th>sp.ent</th>\n",
       "      <th>sfm</th>\n",
       "      <th>...</th>\n",
       "      <th>centroid</th>\n",
       "      <th>meanfun</th>\n",
       "      <th>minfun</th>\n",
       "      <th>maxfun</th>\n",
       "      <th>meandom</th>\n",
       "      <th>mindom</th>\n",
       "      <th>maxdom</th>\n",
       "      <th>dfrange</th>\n",
       "      <th>modindx</th>\n",
       "      <th>label</th>\n",
       "    </tr>\n",
       "  </thead>\n",
       "  <tbody>\n",
       "  </tbody>\n",
       "</table>\n",
       "<p>0 rows × 21 columns</p>\n",
       "</div>"
      ],
      "text/plain": [
       "Empty DataFrame\n",
       "Columns: [meanfreq, sd, median, Q25, Q75, IQR, skew, kurt, sp.ent, sfm, mode, centroid, meanfun, minfun, maxfun, meandom, mindom, maxdom, dfrange, modindx, label]\n",
       "Index: []\n",
       "\n",
       "[0 rows x 21 columns]"
      ]
     },
     "execution_count": 204,
     "metadata": {},
     "output_type": "execute_result"
    }
   ],
   "source": [
    "df[df.duplicated(keep='first')]"
   ]
  },
  {
   "cell_type": "code",
   "execution_count": 205,
   "metadata": {},
   "outputs": [
    {
     "data": {
      "text/plain": [
       "meanfreq    float64\n",
       "sd          float64\n",
       "median      float64\n",
       "Q25         float64\n",
       "Q75         float64\n",
       "IQR         float64\n",
       "skew        float64\n",
       "kurt        float64\n",
       "sp.ent      float64\n",
       "sfm         float64\n",
       "mode        float64\n",
       "centroid    float64\n",
       "meanfun     float64\n",
       "minfun      float64\n",
       "maxfun      float64\n",
       "meandom     float64\n",
       "mindom      float64\n",
       "maxdom      float64\n",
       "dfrange     float64\n",
       "modindx     float64\n",
       "label        object\n",
       "dtype: object"
      ]
     },
     "execution_count": 205,
     "metadata": {},
     "output_type": "execute_result"
    }
   ],
   "source": [
    "df.dtypes"
   ]
  },
  {
   "cell_type": "code",
   "execution_count": 206,
   "metadata": {},
   "outputs": [],
   "source": [
    "# Removing the $ symbol from every column\n",
    "df1 = df.iloc[:,:-1].astype('str').replace('$','',regex=True)"
   ]
  },
  {
   "cell_type": "code",
   "execution_count": 207,
   "metadata": {},
   "outputs": [
    {
     "data": {
      "text/html": [
       "<div>\n",
       "<style scoped>\n",
       "    .dataframe tbody tr th:only-of-type {\n",
       "        vertical-align: middle;\n",
       "    }\n",
       "\n",
       "    .dataframe tbody tr th {\n",
       "        vertical-align: top;\n",
       "    }\n",
       "\n",
       "    .dataframe thead th {\n",
       "        text-align: right;\n",
       "    }\n",
       "</style>\n",
       "<table border=\"1\" class=\"dataframe\">\n",
       "  <thead>\n",
       "    <tr style=\"text-align: right;\">\n",
       "      <th></th>\n",
       "      <th>meanfreq</th>\n",
       "      <th>sd</th>\n",
       "      <th>median</th>\n",
       "      <th>Q25</th>\n",
       "      <th>Q75</th>\n",
       "      <th>IQR</th>\n",
       "      <th>skew</th>\n",
       "      <th>kurt</th>\n",
       "      <th>sp.ent</th>\n",
       "      <th>sfm</th>\n",
       "      <th>...</th>\n",
       "      <th>centroid</th>\n",
       "      <th>meanfun</th>\n",
       "      <th>minfun</th>\n",
       "      <th>maxfun</th>\n",
       "      <th>meandom</th>\n",
       "      <th>mindom</th>\n",
       "      <th>maxdom</th>\n",
       "      <th>dfrange</th>\n",
       "      <th>modindx</th>\n",
       "      <th>label</th>\n",
       "    </tr>\n",
       "  </thead>\n",
       "  <tbody>\n",
       "    <tr>\n",
       "      <th>0</th>\n",
       "      <td>0.059780999999999994</td>\n",
       "      <td>0.0642413</td>\n",
       "      <td>0.032026900000000004</td>\n",
       "      <td>0.0150715</td>\n",
       "      <td>0.09019339999999999</td>\n",
       "      <td>0.07512200000000001</td>\n",
       "      <td>12.8634618</td>\n",
       "      <td>274.40290550000003</td>\n",
       "      <td>0.8933694</td>\n",
       "      <td>0.49191779999999996</td>\n",
       "      <td>...</td>\n",
       "      <td>0.059780999999999994</td>\n",
       "      <td>0.08427910000000001</td>\n",
       "      <td>0.0157017</td>\n",
       "      <td>0.27586209999999994</td>\n",
       "      <td>0.0078125</td>\n",
       "      <td>0.0078125</td>\n",
       "      <td>0.0078125</td>\n",
       "      <td>0.0</td>\n",
       "      <td>0.0</td>\n",
       "      <td>male</td>\n",
       "    </tr>\n",
       "    <tr>\n",
       "      <th>1</th>\n",
       "      <td>0.0660087</td>\n",
       "      <td>0.06731000000000001</td>\n",
       "      <td>0.0402287</td>\n",
       "      <td>0.0194139</td>\n",
       "      <td>0.09266619999999999</td>\n",
       "      <td>0.0732523</td>\n",
       "      <td>22.423285399999997</td>\n",
       "      <td>634.6138545</td>\n",
       "      <td>0.8921931999999999</td>\n",
       "      <td>0.5137238000000001</td>\n",
       "      <td>...</td>\n",
       "      <td>0.0660087</td>\n",
       "      <td>0.1079366</td>\n",
       "      <td>0.015825899999999997</td>\n",
       "      <td>0.25</td>\n",
       "      <td>0.009014399999999999</td>\n",
       "      <td>0.0078125</td>\n",
       "      <td>0.0546875</td>\n",
       "      <td>0.046875</td>\n",
       "      <td>0.0526316</td>\n",
       "      <td>male</td>\n",
       "    </tr>\n",
       "    <tr>\n",
       "      <th>2</th>\n",
       "      <td>0.0773155</td>\n",
       "      <td>0.0838294</td>\n",
       "      <td>0.0367185</td>\n",
       "      <td>0.008701100000000002</td>\n",
       "      <td>0.131908</td>\n",
       "      <td>0.123207</td>\n",
       "      <td>30.757154600000003</td>\n",
       "      <td>1024.927705</td>\n",
       "      <td>0.8463891</td>\n",
       "      <td>0.478905</td>\n",
       "      <td>...</td>\n",
       "      <td>0.0773155</td>\n",
       "      <td>0.0987063</td>\n",
       "      <td>0.015655600000000002</td>\n",
       "      <td>0.2711864</td>\n",
       "      <td>0.007990100000000002</td>\n",
       "      <td>0.0078125</td>\n",
       "      <td>0.015625</td>\n",
       "      <td>0.0078125</td>\n",
       "      <td>0.0465116</td>\n",
       "      <td>male</td>\n",
       "    </tr>\n",
       "    <tr>\n",
       "      <th>3</th>\n",
       "      <td>0.1512281</td>\n",
       "      <td>0.07211060000000001</td>\n",
       "      <td>0.15801120000000002</td>\n",
       "      <td>0.0965817</td>\n",
       "      <td>0.20795529999999998</td>\n",
       "      <td>0.11137349999999999</td>\n",
       "      <td>1.2328313</td>\n",
       "      <td>4.1772962</td>\n",
       "      <td>0.9633225000000001</td>\n",
       "      <td>0.7272318</td>\n",
       "      <td>...</td>\n",
       "      <td>0.1512281</td>\n",
       "      <td>0.0889648</td>\n",
       "      <td>0.0177976</td>\n",
       "      <td>0.25</td>\n",
       "      <td>0.2014974</td>\n",
       "      <td>0.0078125</td>\n",
       "      <td>0.5625</td>\n",
       "      <td>0.5546875</td>\n",
       "      <td>0.24711910000000004</td>\n",
       "      <td>male</td>\n",
       "    </tr>\n",
       "    <tr>\n",
       "      <th>4</th>\n",
       "      <td>0.1351204</td>\n",
       "      <td>0.0791461</td>\n",
       "      <td>0.1246562</td>\n",
       "      <td>0.0787202</td>\n",
       "      <td>0.2060449</td>\n",
       "      <td>0.1273247</td>\n",
       "      <td>1.1011737</td>\n",
       "      <td>4.333713200000001</td>\n",
       "      <td>0.9719551</td>\n",
       "      <td>0.7835681</td>\n",
       "      <td>...</td>\n",
       "      <td>0.1351204</td>\n",
       "      <td>0.1063978</td>\n",
       "      <td>0.0169312</td>\n",
       "      <td>0.2666667</td>\n",
       "      <td>0.7128125</td>\n",
       "      <td>0.0078125</td>\n",
       "      <td>5.484375</td>\n",
       "      <td>5.4765625</td>\n",
       "      <td>0.2082739</td>\n",
       "      <td>male</td>\n",
       "    </tr>\n",
       "  </tbody>\n",
       "</table>\n",
       "<p>5 rows × 21 columns</p>\n",
       "</div>"
      ],
      "text/plain": [
       "               meanfreq                   sd                median  \\\n",
       "0  0.059780999999999994            0.0642413  0.032026900000000004   \n",
       "1             0.0660087  0.06731000000000001             0.0402287   \n",
       "2             0.0773155            0.0838294             0.0367185   \n",
       "3             0.1512281  0.07211060000000001   0.15801120000000002   \n",
       "4             0.1351204            0.0791461             0.1246562   \n",
       "\n",
       "                    Q25                  Q75                  IQR  \\\n",
       "0             0.0150715  0.09019339999999999  0.07512200000000001   \n",
       "1             0.0194139  0.09266619999999999            0.0732523   \n",
       "2  0.008701100000000002             0.131908             0.123207   \n",
       "3             0.0965817  0.20795529999999998  0.11137349999999999   \n",
       "4             0.0787202            0.2060449            0.1273247   \n",
       "\n",
       "                 skew                kurt              sp.ent  \\\n",
       "0          12.8634618  274.40290550000003           0.8933694   \n",
       "1  22.423285399999997         634.6138545  0.8921931999999999   \n",
       "2  30.757154600000003         1024.927705           0.8463891   \n",
       "3           1.2328313           4.1772962  0.9633225000000001   \n",
       "4           1.1011737   4.333713200000001           0.9719551   \n",
       "\n",
       "                   sfm  ...               centroid              meanfun  \\\n",
       "0  0.49191779999999996  ...   0.059780999999999994  0.08427910000000001   \n",
       "1   0.5137238000000001  ...              0.0660087            0.1079366   \n",
       "2             0.478905  ...              0.0773155            0.0987063   \n",
       "3            0.7272318  ...              0.1512281            0.0889648   \n",
       "4            0.7835681  ...              0.1351204            0.1063978   \n",
       "\n",
       "                 minfun               maxfun               meandom     mindom  \\\n",
       "0             0.0157017  0.27586209999999994             0.0078125  0.0078125   \n",
       "1  0.015825899999999997                 0.25  0.009014399999999999  0.0078125   \n",
       "2  0.015655600000000002            0.2711864  0.007990100000000002  0.0078125   \n",
       "3             0.0177976                 0.25             0.2014974  0.0078125   \n",
       "4             0.0169312            0.2666667             0.7128125  0.0078125   \n",
       "\n",
       "      maxdom    dfrange              modindx label  \n",
       "0  0.0078125        0.0                  0.0  male  \n",
       "1  0.0546875   0.046875            0.0526316  male  \n",
       "2   0.015625  0.0078125            0.0465116  male  \n",
       "3     0.5625  0.5546875  0.24711910000000004  male  \n",
       "4   5.484375  5.4765625            0.2082739  male  \n",
       "\n",
       "[5 rows x 21 columns]"
      ]
     },
     "execution_count": 207,
     "metadata": {},
     "output_type": "execute_result"
    }
   ],
   "source": [
    "df1= df1.join(df['label'])\n",
    "df1.head()"
   ]
  },
  {
   "cell_type": "code",
   "execution_count": 208,
   "metadata": {},
   "outputs": [
    {
     "data": {
      "text/plain": [
       "meanfreq    object\n",
       "sd          object\n",
       "median      object\n",
       "Q25         object\n",
       "Q75         object\n",
       "IQR         object\n",
       "skew        object\n",
       "kurt        object\n",
       "sp.ent      object\n",
       "sfm         object\n",
       "mode        object\n",
       "centroid    object\n",
       "meanfun     object\n",
       "minfun      object\n",
       "maxfun      object\n",
       "meandom     object\n",
       "mindom      object\n",
       "maxdom      object\n",
       "dfrange     object\n",
       "modindx     object\n",
       "label       object\n",
       "dtype: object"
      ]
     },
     "execution_count": 208,
     "metadata": {},
     "output_type": "execute_result"
    }
   ],
   "source": [
    "df1.dtypes"
   ]
  },
  {
   "cell_type": "code",
   "execution_count": 209,
   "metadata": {},
   "outputs": [
    {
     "data": {
      "text/plain": [
       "(3166, 21)"
      ]
     },
     "execution_count": 209,
     "metadata": {},
     "output_type": "execute_result"
    }
   ],
   "source": [
    "df.shape"
   ]
  },
  {
   "cell_type": "code",
   "execution_count": 210,
   "metadata": {},
   "outputs": [
    {
     "name": "stdout",
     "output_type": "stream",
     "text": [
      "\n",
      "SelectKBest feature_extraction_text using f_classif:Value\n",
      "\n",
      "pvalues_:   [0.000000 0.000000 0.000000 0.000000 0.000169 0.000000 0.039359 0.000001\n",
      " 0.000000 0.000000 0.000000 0.000000 0.000000 0.000000 0.000000 0.000000\n",
      " 0.000000 0.000000 0.000000 0.085898]\n",
      "\n",
      "scores:     [407.163482 944.502049 278.408026 1120.476092 14.178175 1962.973919\n",
      " 4.248838 24.253878 1004.510839 465.788494 96.583315 407.163482\n",
      " 7236.389947 60.013861 89.950060 119.266417 125.918148 125.028709\n",
      " 120.465472 2.951460]\n",
      "[ 0  1  2  3  4  5  6  7  8  9 10 11 12 13 14 15 16 17 18 19]\n",
      "\n",
      "SelectKBest feature_extraction_text using chi2:Value\n",
      "\n",
      "pvalues_:   [0.181482 0.060157 0.176985 0.000186 0.851390 0.000000 0.000001 0.000000\n",
      " 0.189120 0.000000 0.065900 0.181482 0.000060 0.441775 0.580188 0.000000\n",
      " 0.002390 0.000000 0.000000 0.622505]\n",
      "\n",
      "scores:     [1.785445 3.533062 1.822758 13.970832 0.035098 26.317371 24.314480\n",
      " 11987.900828 1.724459 31.327900 3.382309 1.785445 16.101725 0.591669\n",
      " 0.305931 38.232633 9.222764 295.068090 287.506888 0.242363]\n",
      "\n",
      "SelectPercentile feature_extraction_text:Value\n",
      "\n",
      "pvalues_:   [0.181482 0.060157 0.176985 0.000186 0.851390 0.000000 0.000001 0.000000\n",
      " 0.189120 0.000000 0.065900 0.181482 0.000060 0.441775 0.580188 0.000000\n",
      " 0.002390 0.000000 0.000000 0.622505]\n",
      "\n",
      "scores:     [1.785445 3.533062 1.822758 13.970832 0.035098 26.317371 24.314480\n",
      " 11987.900828 1.724459 31.327900 3.382309 1.785445 16.101725 0.591669\n",
      " 0.305931 38.232633 9.222764 295.068090 287.506888 0.242363]\n"
     ]
    }
   ],
   "source": [
    "np.set_printoptions(formatter={'float_kind':'{:3f}'.format})\n",
    "from sklearn.feature_selection import SelectKBest,chi2,SelectPercentile,f_classif\n",
    "selValue1 = SelectKBest(f_classif,k=20).fit(df.iloc[:,:-1],df.iloc[:,-1])\n",
    "print('\\nSelectKBest feature_extraction_text using f_classif:Value\\n')\n",
    "print('pvalues_:  ',selValue1.pvalues_)\n",
    "print('\\nscores:    ',selValue1.scores_)\n",
    "print(selValue1.get_support(indices=True))\n",
    "selValue2 = SelectKBest(chi2,k=20).fit(df.iloc[:,:-1],df.iloc[:,-1])\n",
    "print('\\nSelectKBest feature_extraction_text using chi2:Value\\n')\n",
    "print('pvalues_:  ',selValue2.pvalues_)\n",
    "print('\\nscores:    ',selValue2.scores_)\n",
    "print('\\nSelectPercentile feature_extraction_text:Value\\n')\n",
    "# Used SelectPercentile feature_extraction_text\n",
    "selValue3 = SelectPercentile(chi2,percentile=100).fit(df.iloc[:,:-1],df.iloc[:,-1])\n",
    "print('pvalues_:  ',selValue3.pvalues_)\n",
    "print('\\nscores:    ',selValue3.scores_)"
   ]
  },
  {
   "cell_type": "code",
   "execution_count": 211,
   "metadata": {},
   "outputs": [],
   "source": [
    "dt = pd.DataFrame({'Columns':df.columns.values[:-1],'P_value':pd.Series(selValue2.pvalues_),'scores':pd.Series(selValue2.scores_)})"
   ]
  },
  {
   "cell_type": "code",
   "execution_count": 212,
   "metadata": {},
   "outputs": [
    {
     "data": {
      "text/html": [
       "<div>\n",
       "<style scoped>\n",
       "    .dataframe tbody tr th:only-of-type {\n",
       "        vertical-align: middle;\n",
       "    }\n",
       "\n",
       "    .dataframe tbody tr th {\n",
       "        vertical-align: top;\n",
       "    }\n",
       "\n",
       "    .dataframe thead th {\n",
       "        text-align: right;\n",
       "    }\n",
       "</style>\n",
       "<table border=\"1\" class=\"dataframe\">\n",
       "  <thead>\n",
       "    <tr style=\"text-align: right;\">\n",
       "      <th></th>\n",
       "      <th>Columns</th>\n",
       "      <th>P_value</th>\n",
       "      <th>scores</th>\n",
       "    </tr>\n",
       "  </thead>\n",
       "  <tbody>\n",
       "    <tr>\n",
       "      <th>7</th>\n",
       "      <td>kurt</td>\n",
       "      <td>$0.00</td>\n",
       "      <td>$11,987.90</td>\n",
       "    </tr>\n",
       "    <tr>\n",
       "      <th>17</th>\n",
       "      <td>maxdom</td>\n",
       "      <td>$0.00</td>\n",
       "      <td>$295.07</td>\n",
       "    </tr>\n",
       "    <tr>\n",
       "      <th>18</th>\n",
       "      <td>dfrange</td>\n",
       "      <td>$0.00</td>\n",
       "      <td>$287.51</td>\n",
       "    </tr>\n",
       "    <tr>\n",
       "      <th>15</th>\n",
       "      <td>meandom</td>\n",
       "      <td>$0.00</td>\n",
       "      <td>$38.23</td>\n",
       "    </tr>\n",
       "    <tr>\n",
       "      <th>9</th>\n",
       "      <td>sfm</td>\n",
       "      <td>$0.00</td>\n",
       "      <td>$31.33</td>\n",
       "    </tr>\n",
       "    <tr>\n",
       "      <th>5</th>\n",
       "      <td>IQR</td>\n",
       "      <td>$0.00</td>\n",
       "      <td>$26.32</td>\n",
       "    </tr>\n",
       "    <tr>\n",
       "      <th>6</th>\n",
       "      <td>skew</td>\n",
       "      <td>$0.00</td>\n",
       "      <td>$24.31</td>\n",
       "    </tr>\n",
       "    <tr>\n",
       "      <th>12</th>\n",
       "      <td>meanfun</td>\n",
       "      <td>$0.00</td>\n",
       "      <td>$16.10</td>\n",
       "    </tr>\n",
       "    <tr>\n",
       "      <th>3</th>\n",
       "      <td>Q25</td>\n",
       "      <td>$0.00</td>\n",
       "      <td>$13.97</td>\n",
       "    </tr>\n",
       "    <tr>\n",
       "      <th>16</th>\n",
       "      <td>mindom</td>\n",
       "      <td>$0.00</td>\n",
       "      <td>$9.22</td>\n",
       "    </tr>\n",
       "    <tr>\n",
       "      <th>1</th>\n",
       "      <td>sd</td>\n",
       "      <td>$0.06</td>\n",
       "      <td>$3.53</td>\n",
       "    </tr>\n",
       "    <tr>\n",
       "      <th>10</th>\n",
       "      <td>mode</td>\n",
       "      <td>$0.07</td>\n",
       "      <td>$3.38</td>\n",
       "    </tr>\n",
       "    <tr>\n",
       "      <th>2</th>\n",
       "      <td>median</td>\n",
       "      <td>$0.18</td>\n",
       "      <td>$1.82</td>\n",
       "    </tr>\n",
       "    <tr>\n",
       "      <th>0</th>\n",
       "      <td>meanfreq</td>\n",
       "      <td>$0.18</td>\n",
       "      <td>$1.79</td>\n",
       "    </tr>\n",
       "    <tr>\n",
       "      <th>11</th>\n",
       "      <td>centroid</td>\n",
       "      <td>$0.18</td>\n",
       "      <td>$1.79</td>\n",
       "    </tr>\n",
       "    <tr>\n",
       "      <th>8</th>\n",
       "      <td>sp.ent</td>\n",
       "      <td>$0.19</td>\n",
       "      <td>$1.72</td>\n",
       "    </tr>\n",
       "    <tr>\n",
       "      <th>13</th>\n",
       "      <td>minfun</td>\n",
       "      <td>$0.44</td>\n",
       "      <td>$0.59</td>\n",
       "    </tr>\n",
       "    <tr>\n",
       "      <th>14</th>\n",
       "      <td>maxfun</td>\n",
       "      <td>$0.58</td>\n",
       "      <td>$0.31</td>\n",
       "    </tr>\n",
       "    <tr>\n",
       "      <th>19</th>\n",
       "      <td>modindx</td>\n",
       "      <td>$0.62</td>\n",
       "      <td>$0.24</td>\n",
       "    </tr>\n",
       "    <tr>\n",
       "      <th>4</th>\n",
       "      <td>Q75</td>\n",
       "      <td>$0.85</td>\n",
       "      <td>$0.04</td>\n",
       "    </tr>\n",
       "  </tbody>\n",
       "</table>\n",
       "</div>"
      ],
      "text/plain": [
       "     Columns  P_value     scores\n",
       "7       kurt    $0.00 $11,987.90\n",
       "17    maxdom    $0.00    $295.07\n",
       "18   dfrange    $0.00    $287.51\n",
       "15   meandom    $0.00     $38.23\n",
       "9        sfm    $0.00     $31.33\n",
       "5        IQR    $0.00     $26.32\n",
       "6       skew    $0.00     $24.31\n",
       "12   meanfun    $0.00     $16.10\n",
       "3        Q25    $0.00     $13.97\n",
       "16    mindom    $0.00      $9.22\n",
       "1         sd    $0.06      $3.53\n",
       "10      mode    $0.07      $3.38\n",
       "2     median    $0.18      $1.82\n",
       "0   meanfreq    $0.18      $1.79\n",
       "11  centroid    $0.18      $1.79\n",
       "8     sp.ent    $0.19      $1.72\n",
       "13    minfun    $0.44      $0.59\n",
       "14    maxfun    $0.58      $0.31\n",
       "19   modindx    $0.62      $0.24\n",
       "4        Q75    $0.85      $0.04"
      ]
     },
     "execution_count": 212,
     "metadata": {},
     "output_type": "execute_result"
    }
   ],
   "source": [
    "pd.options.display.float_format = '${:,.2f}'.format\n",
    "dt.sort_values(by='scores',ascending=False,inplace=True)\n",
    "dt"
   ]
  },
  {
   "cell_type": "code",
   "execution_count": 213,
   "metadata": {},
   "outputs": [
    {
     "data": {
      "text/html": [
       "<div>\n",
       "<style scoped>\n",
       "    .dataframe tbody tr th:only-of-type {\n",
       "        vertical-align: middle;\n",
       "    }\n",
       "\n",
       "    .dataframe tbody tr th {\n",
       "        vertical-align: top;\n",
       "    }\n",
       "\n",
       "    .dataframe thead th {\n",
       "        text-align: right;\n",
       "    }\n",
       "</style>\n",
       "<table border=\"1\" class=\"dataframe\">\n",
       "  <thead>\n",
       "    <tr style=\"text-align: right;\">\n",
       "      <th></th>\n",
       "      <th>kurt</th>\n",
       "      <th>maxdom</th>\n",
       "      <th>dfrange</th>\n",
       "      <th>meandom</th>\n",
       "      <th>sfm</th>\n",
       "      <th>IQR</th>\n",
       "      <th>skew</th>\n",
       "      <th>meanfun</th>\n",
       "      <th>Q25</th>\n",
       "      <th>mindom</th>\n",
       "      <th>label</th>\n",
       "    </tr>\n",
       "  </thead>\n",
       "  <tbody>\n",
       "    <tr>\n",
       "      <th>0</th>\n",
       "      <td>274.40290550000003</td>\n",
       "      <td>0.0078125</td>\n",
       "      <td>0.0</td>\n",
       "      <td>0.0078125</td>\n",
       "      <td>0.49191779999999996</td>\n",
       "      <td>0.07512200000000001</td>\n",
       "      <td>12.8634618</td>\n",
       "      <td>0.08427910000000001</td>\n",
       "      <td>0.0150715</td>\n",
       "      <td>0.0078125</td>\n",
       "      <td>male</td>\n",
       "    </tr>\n",
       "    <tr>\n",
       "      <th>1</th>\n",
       "      <td>634.6138545</td>\n",
       "      <td>0.0546875</td>\n",
       "      <td>0.046875</td>\n",
       "      <td>0.009014399999999999</td>\n",
       "      <td>0.5137238000000001</td>\n",
       "      <td>0.0732523</td>\n",
       "      <td>22.423285399999997</td>\n",
       "      <td>0.1079366</td>\n",
       "      <td>0.0194139</td>\n",
       "      <td>0.0078125</td>\n",
       "      <td>male</td>\n",
       "    </tr>\n",
       "    <tr>\n",
       "      <th>2</th>\n",
       "      <td>1024.927705</td>\n",
       "      <td>0.015625</td>\n",
       "      <td>0.0078125</td>\n",
       "      <td>0.007990100000000002</td>\n",
       "      <td>0.478905</td>\n",
       "      <td>0.123207</td>\n",
       "      <td>30.757154600000003</td>\n",
       "      <td>0.0987063</td>\n",
       "      <td>0.008701100000000002</td>\n",
       "      <td>0.0078125</td>\n",
       "      <td>male</td>\n",
       "    </tr>\n",
       "    <tr>\n",
       "      <th>3</th>\n",
       "      <td>4.1772962</td>\n",
       "      <td>0.5625</td>\n",
       "      <td>0.5546875</td>\n",
       "      <td>0.2014974</td>\n",
       "      <td>0.7272318</td>\n",
       "      <td>0.11137349999999999</td>\n",
       "      <td>1.2328313</td>\n",
       "      <td>0.0889648</td>\n",
       "      <td>0.0965817</td>\n",
       "      <td>0.0078125</td>\n",
       "      <td>male</td>\n",
       "    </tr>\n",
       "    <tr>\n",
       "      <th>4</th>\n",
       "      <td>4.333713200000001</td>\n",
       "      <td>5.484375</td>\n",
       "      <td>5.4765625</td>\n",
       "      <td>0.7128125</td>\n",
       "      <td>0.7835681</td>\n",
       "      <td>0.1273247</td>\n",
       "      <td>1.1011737</td>\n",
       "      <td>0.1063978</td>\n",
       "      <td>0.0787202</td>\n",
       "      <td>0.0078125</td>\n",
       "      <td>male</td>\n",
       "    </tr>\n",
       "  </tbody>\n",
       "</table>\n",
       "</div>"
      ],
      "text/plain": [
       "                 kurt     maxdom    dfrange               meandom  \\\n",
       "0  274.40290550000003  0.0078125        0.0             0.0078125   \n",
       "1         634.6138545  0.0546875   0.046875  0.009014399999999999   \n",
       "2         1024.927705   0.015625  0.0078125  0.007990100000000002   \n",
       "3           4.1772962     0.5625  0.5546875             0.2014974   \n",
       "4   4.333713200000001   5.484375  5.4765625             0.7128125   \n",
       "\n",
       "                   sfm                  IQR                skew  \\\n",
       "0  0.49191779999999996  0.07512200000000001          12.8634618   \n",
       "1   0.5137238000000001            0.0732523  22.423285399999997   \n",
       "2             0.478905             0.123207  30.757154600000003   \n",
       "3            0.7272318  0.11137349999999999           1.2328313   \n",
       "4            0.7835681            0.1273247           1.1011737   \n",
       "\n",
       "               meanfun                   Q25     mindom label  \n",
       "0  0.08427910000000001             0.0150715  0.0078125  male  \n",
       "1            0.1079366             0.0194139  0.0078125  male  \n",
       "2            0.0987063  0.008701100000000002  0.0078125  male  \n",
       "3            0.0889648             0.0965817  0.0078125  male  \n",
       "4            0.1063978             0.0787202  0.0078125  male  "
      ]
     },
     "execution_count": 213,
     "metadata": {},
     "output_type": "execute_result"
    }
   ],
   "source": [
    "dfnew=pd.DataFrame()\n",
    "for each in dt.Columns.values:\n",
    "    dfnew = pd.concat([dfnew,pd.DataFrame(df1[each])],axis=1)\n",
    "dfnew = dfnew.join(pd.DataFrame(df['label']))\n",
    "dfnew = dfnew.drop(dfnew.loc[:,'sd':'Q75'].columns,axis=1)\n",
    "dfnew.head()"
   ]
  },
  {
   "cell_type": "code",
   "execution_count": 214,
   "metadata": {},
   "outputs": [
    {
     "data": {
      "text/plain": [
       "array(['kurt', 'maxdom', 'dfrange', 'meandom', 'sfm', 'IQR', 'skew',\n",
       "       'meanfun', 'Q25', 'mindom', 'label'], dtype=object)"
      ]
     },
     "execution_count": 214,
     "metadata": {},
     "output_type": "execute_result"
    }
   ],
   "source": [
    "dfnew.columns.values"
   ]
  },
  {
   "cell_type": "markdown",
   "metadata": {},
   "source": [
    "# Logistics Regression: GridSearchCV"
   ]
  },
  {
   "cell_type": "code",
   "execution_count": 215,
   "metadata": {},
   "outputs": [
    {
     "name": "stdout",
     "output_type": "stream",
     "text": [
      "For GridSearchCV:\n",
      "grid best score for train_set:  0.9676145339652449\n",
      "grid best parameters for train_set:  {'C': 1.0, 'multi_class': 'ovr', 'penalty': 'l1', 'random_state': 5}\n",
      "Execution time: 13.599502086639404 ms\n"
     ]
    }
   ],
   "source": [
    "from sklearn.model_selection import GridSearchCV,RandomizedSearchCV,train_test_split\n",
    "from sklearn.linear_model import LogisticRegression\n",
    "from sklearn.preprocessing import LabelEncoder,StandardScaler\n",
    "import time\n",
    "dfnew['label'] = (LabelEncoder().fit_transform(dfnew['label']))\n",
    "train_set,test_set = train_test_split(dfnew,random_state=9,test_size=0.2,stratify=df['label'])\n",
    "#display(test_set.loc[:,'kurt':'sd'])\n",
    "lm=LogisticRegression()\n",
    "start_time=time.time()\n",
    "params = dict(penalty=['l1','l2',],C=[0.2,0.5,0.7,1.0],random_state=[5,10,45,24,17],multi_class=['ovr'])\n",
    "grid = GridSearchCV(lm,params,cv=5).fit(train_set.loc[:,'kurt':'mindom'],train_set['label'])\n",
    "print('For GridSearchCV:')\n",
    "print('grid best score for train_set: ',grid.best_score_)\n",
    "print('grid best parameters for train_set: ',grid.best_params_)\n",
    "print(\"Execution time: \" + str((time.time() - start_time)) + ' ms')"
   ]
  },
  {
   "cell_type": "code",
   "execution_count": 216,
   "metadata": {},
   "outputs": [
    {
     "name": "stdout",
     "output_type": "stream",
     "text": [
      "Test_accuracy:  0.9826498422712934\n"
     ]
    }
   ],
   "source": [
    "print('Test_accuracy: ',grid.score(test_set.loc[:,'kurt':'mindom'],test_set['label']))"
   ]
  },
  {
   "cell_type": "markdown",
   "metadata": {},
   "source": [
    "# Logistic Regression: RandomizedSearchCV"
   ]
  },
  {
   "cell_type": "code",
   "execution_count": 217,
   "metadata": {},
   "outputs": [
    {
     "name": "stdout",
     "output_type": "stream",
     "text": [
      "For RandomizedSearchCV:\n",
      "grid best score for train_set:  0.9640600315955766\n",
      "grid best parameters for train_set:  {'random_state': 45, 'penalty': 'l1', 'multi_class': 'ovr', 'C': 0.5}\n",
      "Execution time: 3.2223386764526367 ms\n"
     ]
    }
   ],
   "source": [
    "from sklearn.model_selection import GridSearchCV,RandomizedSearchCV,train_test_split\n",
    "from sklearn.linear_model import LogisticRegression\n",
    "from sklearn.preprocessing import LabelEncoder,StandardScaler\n",
    "import time\n",
    "#dfnew['label'] = (LabelEncoder().fit_transform(dfnew['label']))\n",
    "train_set,test_set = train_test_split(dfnew,random_state=9,test_size=0.2,stratify=df['label'])\n",
    "#display(test_set.loc[:,'kurt':'sd'])\n",
    "lm=LogisticRegression()\n",
    "start_time=time.time()\n",
    "params = dict(penalty=['l1','l2',],C=[0.2,0.5,0.7,1.0],random_state=[5,10,45,24,17],multi_class=['ovr'])\n",
    "grid = RandomizedSearchCV(lm,params,cv=5).fit(train_set.loc[:,'kurt':'mindom'],train_set['label'])\n",
    "print('For RandomizedSearchCV:')\n",
    "print('grid best score for train_set: ',grid.best_score_)\n",
    "print('grid best parameters for train_set: ',grid.best_params_)\n",
    "print(\"Execution time: \" + str((time.time() - start_time)) + ' ms')"
   ]
  },
  {
   "cell_type": "code",
   "execution_count": 218,
   "metadata": {},
   "outputs": [
    {
     "name": "stdout",
     "output_type": "stream",
     "text": [
      "Test_accuracy:  0.9810725552050473\n"
     ]
    }
   ],
   "source": [
    "print('Test_accuracy: ',grid.score(test_set.loc[:,'kurt':'mindom'],test_set['label']))"
   ]
  },
  {
   "cell_type": "code",
   "execution_count": 219,
   "metadata": {},
   "outputs": [
    {
     "name": "stdout",
     "output_type": "stream",
     "text": [
      "The test dataset confusion_matrix is :\n",
      " [[287  30]\n",
      " [  8 309]]\n"
     ]
    }
   ],
   "source": [
    "from sklearn.metrics import confusion_matrix,precision_recall_fscore_support,f1_score\n",
    "from sklearn.preprocessing import LabelEncoder\n",
    "#dfnew['label'] = (LabelEncoder().fit_transform(dfnew['label']))\n",
    "#display(test_set.loc[:,'kurt':'sd'])\n",
    "lm=LogisticRegression()\n",
    "lm.fit(train_set.loc[:,'kurt':'mindom'],train_set['label'])\n",
    "y_pred = lm.predict(test_set.loc[:,'kurt':'mindom'])\n",
    "print('The test dataset confusion_matrix is :\\n',confusion_matrix(test_set['label'],y_pred))"
   ]
  },
  {
   "cell_type": "code",
   "execution_count": 220,
   "metadata": {},
   "outputs": [
    {
     "name": "stdout",
     "output_type": "stream",
     "text": [
      "Precision_score:  [0.972881 0.911504] \n",
      "Recall Score: [0.905363 0.974763] \n",
      "f_score [0.937908 0.942073] \n",
      " The overall f1_score: 0.9399908337318668 \n"
     ]
    }
   ],
   "source": [
    "p,r,f,s = precision_recall_fscore_support(test_set['label'], y_pred)\n",
    "print('Precision_score: ',p,'\\nRecall Score:',r,'\\nf_score',f,'\\n The overall f1_score: {} '\n",
    "      .format(f1_score(test_set['label'],y_pred,average=\"weighted\")))"
   ]
  },
  {
   "cell_type": "code",
   "execution_count": 224,
   "metadata": {},
   "outputs": [
    {
     "data": {
      "text/html": [
       "<div>\n",
       "<style scoped>\n",
       "    .dataframe tbody tr th:only-of-type {\n",
       "        vertical-align: middle;\n",
       "    }\n",
       "\n",
       "    .dataframe tbody tr th {\n",
       "        vertical-align: top;\n",
       "    }\n",
       "\n",
       "    .dataframe thead th {\n",
       "        text-align: right;\n",
       "    }\n",
       "</style>\n",
       "<table border=\"1\" class=\"dataframe\">\n",
       "  <thead>\n",
       "    <tr style=\"text-align: right;\">\n",
       "      <th></th>\n",
       "      <th>Probability</th>\n",
       "      <th>Actual</th>\n",
       "      <th>Predicted</th>\n",
       "      <th>SameOrNot</th>\n",
       "    </tr>\n",
       "  </thead>\n",
       "  <tbody>\n",
       "    <tr>\n",
       "      <th>10</th>\n",
       "      <td>$0.55</td>\n",
       "      <td>0</td>\n",
       "      <td>1</td>\n",
       "      <td>1</td>\n",
       "    </tr>\n",
       "    <tr>\n",
       "      <th>17</th>\n",
       "      <td>$0.73</td>\n",
       "      <td>0</td>\n",
       "      <td>1</td>\n",
       "      <td>1</td>\n",
       "    </tr>\n",
       "    <tr>\n",
       "      <th>20</th>\n",
       "      <td>$0.81</td>\n",
       "      <td>0</td>\n",
       "      <td>1</td>\n",
       "      <td>1</td>\n",
       "    </tr>\n",
       "    <tr>\n",
       "      <th>35</th>\n",
       "      <td>$0.63</td>\n",
       "      <td>0</td>\n",
       "      <td>1</td>\n",
       "      <td>1</td>\n",
       "    </tr>\n",
       "    <tr>\n",
       "      <th>57</th>\n",
       "      <td>$0.74</td>\n",
       "      <td>0</td>\n",
       "      <td>1</td>\n",
       "      <td>1</td>\n",
       "    </tr>\n",
       "  </tbody>\n",
       "</table>\n",
       "</div>"
      ],
      "text/plain": [
       "    Probability  Actual  Predicted  SameOrNot\n",
       "10        $0.55       0          1          1\n",
       "17        $0.73       0          1          1\n",
       "20        $0.81       0          1          1\n",
       "35        $0.63       0          1          1\n",
       "57        $0.74       0          1          1"
      ]
     },
     "execution_count": 224,
     "metadata": {},
     "output_type": "execute_result"
    }
   ],
   "source": [
    "Label_probabability = pd.Series()\n",
    "for each in lm.predict_proba((test_set.loc[:,'kurt':'mindom'])):\n",
    "    Label_probabability = Label_probabability.append(pd.Series(np.amax(each)))\n",
    "Label_probabability_DTFrame = pd.concat([Label_probabability.reset_index(drop=True),\n",
    "                                         test_set['label'].reset_index(drop=True),\n",
    "                                         pd.Series(lm.predict(test_set.loc[:,'kurt':'mindom']))],axis=1,\n",
    "                                        keys=['Probability','Actual','Predicted'])\n",
    "Label_probabability_DTFrame['SameOrNot']= abs(Label_probabability_DTFrame.Actual -Label_probabability_DTFrame.Predicted)\n",
    "Label_probabability_DTFrame[Label_probabability_DTFrame.SameOrNot !=0].head()"
   ]
  },
  {
   "cell_type": "code",
   "execution_count": 222,
   "metadata": {},
   "outputs": [
    {
     "data": {
      "text/plain": [
       "<matplotlib.collections.PathCollection at 0x282c0593f28>"
      ]
     },
     "execution_count": 222,
     "metadata": {},
     "output_type": "execute_result"
    },
    {
     "data": {
      "image/png": "[encoded data removed]",
      "text/plain": [
       "<Figure size 432x288 with 1 Axes>"
      ]
     },
     "metadata": {},
     "output_type": "display_data"
    }
   ],
   "source": [
    "from sklearn.decomposition import PCA\n",
    "from sklearn.preprocessing import MinMaxScaler\n",
    "pca=PCA(n_components=1)\n",
    "#scaler= StandardScaler()\n",
    "dfnew['PCAtransformed'] = pca.fit_transform(dfnew.iloc[:,:-1])\n",
    "#dfnew['PCAtransformed']= scaler.fit_transform(dfnew.loc[:,['PCAtransformed']])\n",
    "dfTransformed = dfnew.iloc[:,[-1,-2]]\n",
    "dfTransformed = dfTransformed[['PCAtransformed','label']]\n",
    "dfTransformed.sort_values(by='PCAtransformed',ascending=True,inplace=True)\n",
    "#display(dfTransformed.tail(1))\n",
    "X=[-30,1275]\n",
    "Y=[1,0]\n",
    "#Y = [-(lm.intercept_[0]+ lm.coef_[0][0]*elem)/lm.coef_[0][1] for elem in X]\n",
    "plt.plot(X,Y)\n",
    "color = ['r' if y_ == 0 else 'b' for y_ in dfTransformed['label']]\n",
    "plt.scatter(dfTransformed['PCAtransformed'],dfTransformed['label'], c=color, s=8)"
   ]
  },
  {
   "cell_type": "code",
   "execution_count": null,
   "metadata": {},
   "outputs": [],
   "source": []
  },
  {
   "cell_type": "code",
   "execution_count": 24,
   "metadata": {},
   "outputs": [],
   "source": [
    "## Using Multinomial parameter"
   ]
  },
  {
   "cell_type": "code",
   "execution_count": 25,
   "metadata": {},
   "outputs": [
    {
     "name": "stdout",
     "output_type": "stream",
     "text": [
      "grid best score:  0.5240726124704025\n",
      "grid best paramters:  {'solver': 'sag', 'random_state': 10, 'penalty': 'l2', 'multi_class': 'multinomial', 'C': 1.0}\n"
     ]
    }
   ],
   "source": [
    "#### train_set,test_set = train_test_split(dfnew,random_state=3,test_size=0.2,stratify=df['label'])\n",
    "#display(test_set.loc[:,'kurt':'sd'])\n",
    "import warnings\n",
    "warnings.simplefilter('ignore')\n",
    "lm=LogisticRegression()\n",
    "params = dict(penalty=['l2',],C=[0.2,0.5,0.7,1.0],random_state=[5,10,45,24,17],solver=['sag','saga'],\n",
    "              multi_class=['multinomial'])\n",
    "grid = RandomizedSearchCV(lm,params,cv=5).fit(train_set.loc[:,'kurt':'mindom'],train_set['label'])\n",
    "print('grid best score: ',grid.best_score_)\n",
    "print('grid best paramters: ',grid.best_params_)"
   ]
  },
  {
   "cell_type": "code",
   "execution_count": 26,
   "metadata": {},
   "outputs": [
    {
     "name": "stdout",
     "output_type": "stream",
     "text": [
      "Test_accuracy:  0.5299684542586751\n"
     ]
    }
   ],
   "source": [
    "print('Test_accuracy: ',grid.score(test_set.loc[:,'kurt':'mindom'],test_set['label']))"
   ]
  },
  {
   "cell_type": "markdown",
   "metadata": {},
   "source": [
    "# SVM Linear"
   ]
  },
  {
   "cell_type": "markdown",
   "metadata": {},
   "source": []
  },
  {
   "cell_type": "markdown",
   "metadata": {},
   "source": [
    "# Using Cross Validation with Different values of C"
   ]
  },
  {
   "cell_type": "code",
   "execution_count": 64,
   "metadata": {},
   "outputs": [
    {
     "data": {
      "text/html": [
       "<div>\n",
       "<style scoped>\n",
       "    .dataframe tbody tr th:only-of-type {\n",
       "        vertical-align: middle;\n",
       "    }\n",
       "\n",
       "    .dataframe tbody tr th {\n",
       "        vertical-align: top;\n",
       "    }\n",
       "\n",
       "    .dataframe thead th {\n",
       "        text-align: right;\n",
       "    }\n",
       "</style>\n",
       "<table border=\"1\" class=\"dataframe\">\n",
       "  <thead>\n",
       "    <tr style=\"text-align: right;\">\n",
       "      <th></th>\n",
       "      <th>C_values</th>\n",
       "      <th>Accuracy_values</th>\n",
       "    </tr>\n",
       "  </thead>\n",
       "  <tbody>\n",
       "    <tr>\n",
       "      <th>0</th>\n",
       "      <td>1</td>\n",
       "      <td>0.9694</td>\n",
       "    </tr>\n",
       "    <tr>\n",
       "      <th>0</th>\n",
       "      <td>2</td>\n",
       "      <td>0.9688</td>\n",
       "    </tr>\n",
       "    <tr>\n",
       "      <th>0</th>\n",
       "      <td>3</td>\n",
       "      <td>0.9688</td>\n",
       "    </tr>\n",
       "    <tr>\n",
       "      <th>0</th>\n",
       "      <td>4</td>\n",
       "      <td>0.9688</td>\n",
       "    </tr>\n",
       "    <tr>\n",
       "      <th>0</th>\n",
       "      <td>5</td>\n",
       "      <td>0.9691</td>\n",
       "    </tr>\n",
       "    <tr>\n",
       "      <th>0</th>\n",
       "      <td>6</td>\n",
       "      <td>0.9694</td>\n",
       "    </tr>\n",
       "    <tr>\n",
       "      <th>0</th>\n",
       "      <td>7</td>\n",
       "      <td>0.9691</td>\n",
       "    </tr>\n",
       "    <tr>\n",
       "      <th>0</th>\n",
       "      <td>8</td>\n",
       "      <td>0.9688</td>\n",
       "    </tr>\n",
       "    <tr>\n",
       "      <th>0</th>\n",
       "      <td>9</td>\n",
       "      <td>0.9685</td>\n",
       "    </tr>\n",
       "  </tbody>\n",
       "</table>\n",
       "</div>"
      ],
      "text/plain": [
       "   C_values Accuracy_values\n",
       "0         1          0.9694\n",
       "0         2          0.9688\n",
       "0         3          0.9688\n",
       "0         4          0.9688\n",
       "0         5          0.9691\n",
       "0         6          0.9694\n",
       "0         7          0.9691\n",
       "0         8          0.9688\n",
       "0         9          0.9685"
      ]
     },
     "execution_count": 64,
     "metadata": {},
     "output_type": "execute_result"
    }
   ],
   "source": [
    "from sklearn.cross_validation import cross_val_score\n",
    "from sklearn.svm import SVC\n",
    "from sklearn.preprocessing import StandardScaler\n",
    "X=StandardScaler().fit_transform(df1.iloc[:,:-1])\n",
    "C_List=pd.Series()\n",
    "Acc_List=pd.Series()\n",
    "DTFrame=pd.DataFrame()\n",
    "for i in range(1,10):\n",
    "    svcCrossLinear = SVC(kernel='linear',C=i)\n",
    "    scores=cross_val_score(svcCrossLinear,X,df1.iloc[:,-1].values,scoring='accuracy',cv=10)\n",
    "    C_List = C_List.append(pd.Series(i))\n",
    "    Acc_List = Acc_List.append(pd.Series(round(scores.mean(),4)))\n",
    "DTFrame= pd.concat([C_List,Acc_List],axis=1,keys=['C_values','Accuracy_values'])\n",
    "DTFrame['Accuracy_values'] = DTFrame['Accuracy_values'].apply(lambda x : str(x).replace('$',''))\n",
    "DTFrame"
   ]
  },
  {
   "cell_type": "code",
   "execution_count": 73,
   "metadata": {},
   "outputs": [
    {
     "data": {
      "text/plain": [
       "Text(0,0.5,'Cross-Validated Accuracy')"
      ]
     },
     "execution_count": 73,
     "metadata": {},
     "output_type": "execute_result"
    },
    {
     "data": {
      "image/png": "[encoded data removed]",
      "text/plain": [
       "<Figure size 432x288 with 1 Axes>"
      ]
     },
     "metadata": {},
     "output_type": "display_data"
    }
   ],
   "source": [
    "sns.lineplot(x=C_List,y=Acc_List)\n",
    "plt.xlabel('Value of C for SVC')\n",
    "plt.ylabel('Cross-Validated Accuracy')"
   ]
  },
  {
   "cell_type": "markdown",
   "metadata": {},
   "source": [
    "## Using GridSearchCV"
   ]
  },
  {
   "cell_type": "code",
   "execution_count": 152,
   "metadata": {},
   "outputs": [
    {
     "name": "stderr",
     "output_type": "stream",
     "text": [
      "C:\\Users\\supratik chanda\\Documents\\New folder (2)\\lib\\site-packages\\pandas\\core\\indexing.py:543: SettingWithCopyWarning: \n",
      "A value is trying to be set on a copy of a slice from a DataFrame.\n",
      "Try using .loc[row_indexer,col_indexer] = value instead\n",
      "\n",
      "See the caveats in the documentation: http://pandas.pydata.org/pandas-docs/stable/indexing.html#indexing-view-versus-copy\n",
      "  self.obj[item] = s\n"
     ]
    },
    {
     "name": "stdout",
     "output_type": "stream",
     "text": [
      "grid best score:  0.9696132596685083\n",
      "grid best paramters:  {'C': 6, 'class_weight': {0: 2}, 'kernel': 'linear', 'random_state': 5}\n",
      "Execution time: 36.25111722946167 ms\n"
     ]
    }
   ],
   "source": [
    "from sklearn.model_selection import GridSearchCV,RandomizedSearchCV,train_test_split\n",
    "from sklearn.svm import SVC\n",
    "from sklearn.preprocessing import LabelEncoder,StandardScaler\n",
    "import time\n",
    "dfnew['label'] = (LabelEncoder().fit_transform(dfnew['label']))\n",
    "train_set,test_set = train_test_split(dfnew,random_state=9,test_size=0.2,stratify=df['label'])\n",
    "#display(test_set.loc[:,'kurt':'sd'])\n",
    "train_set.loc[:,'kurt':'mindom']=StandardScaler().fit_transform(train_set.loc[:,'kurt':'mindom'])\n",
    "test_set.loc[:,'kurt':'mindom'] =StandardScaler().fit_transform(test_set.loc[:,'kurt':'mindom'])\n",
    "svcLinearGrid = SVC(probability=True)\n",
    "start_time=time.time()\n",
    "params=dict(C=[6],kernel=['linear'],random_state=[5,10,13,45],class_weight=[{0:1},{0:2},{0:6}])\n",
    "grid=GridSearchCV(svcLinearGrid,params,cv=10).fit(train_set.loc[:,'kurt':'mindom'],train_set['label'])\n",
    "print('grid best score: ',grid.best_score_)\n",
    "print('grid best paramters: ',grid.best_params_)\n",
    "print(\"Execution time: \" + str((time.time() - start_time)) + ' ms')"
   ]
  },
  {
   "cell_type": "code",
   "execution_count": 153,
   "metadata": {},
   "outputs": [
    {
     "name": "stdout",
     "output_type": "stream",
     "text": [
      "Test_accuracy:  0.9810725552050473\n"
     ]
    }
   ],
   "source": [
    "print('Test_accuracy: ',grid.score(test_set.loc[:,'kurt':'mindom'],test_set['label']))"
   ]
  },
  {
   "cell_type": "markdown",
   "metadata": {},
   "source": [
    "## Using RandomizedSearchCV"
   ]
  },
  {
   "cell_type": "code",
   "execution_count": 228,
   "metadata": {},
   "outputs": [
    {
     "name": "stderr",
     "output_type": "stream",
     "text": [
      "C:\\Users\\supratik chanda\\Documents\\New folder (2)\\lib\\site-packages\\pandas\\core\\indexing.py:543: SettingWithCopyWarning: \n",
      "A value is trying to be set on a copy of a slice from a DataFrame.\n",
      "Try using .loc[row_indexer,col_indexer] = value instead\n",
      "\n",
      "See the caveats in the documentation: http://pandas.pydata.org/pandas-docs/stable/indexing.html#indexing-view-versus-copy\n",
      "  self.obj[item] = s\n"
     ]
    },
    {
     "name": "stdout",
     "output_type": "stream",
     "text": [
      "grid best score:  0.9691943127962085\n",
      "grid best parameters:  {'random_state': 10, 'kernel': 'linear', 'class_weight': {0: 1}, 'C': 6}\n",
      "Execution time: 25.42304277420044 ms\n"
     ]
    }
   ],
   "source": [
    "from sklearn.model_selection import GridSearchCV,RandomizedSearchCV,train_test_split\n",
    "from sklearn.svm import SVC\n",
    "from sklearn.preprocessing import LabelEncoder,StandardScaler\n",
    "import time\n",
    "dfnew['label'] = (LabelEncoder().fit_transform(dfnew['label']))\n",
    "sc=StandardScaler()\n",
    "train_set,test_set = train_test_split(dfnew,random_state=9,test_size=0.2,stratify=df['label'])\n",
    "train_set.loc[:,'kurt':'mindom'] =sc.fit_transform(train_set.loc[:,'kurt':'mindom'])\n",
    "test_set.loc[:,'kurt':'mindom']=sc.transform(test_set.loc[:,'kurt':'mindom'])\n",
    "#display(test_set.loc[:,'kurt':'sd'])\n",
    "svcLinearRandom = SVC(probability=True)\n",
    "start_time=time.time()\n",
    "params=dict(C=[6],kernel=['linear'],random_state=[5,10,13,45],class_weight=[{0:1},{0:2},{0:6}])\n",
    "grid=RandomizedSearchCV(svcLinearRandom,params,cv=5).fit(train_set.loc[:,'kurt':'mindom'],train_set['label'])\n",
    "print('grid best score: ',grid.best_score_)\n",
    "print('grid best parameters: ',grid.best_params_)\n",
    "print(\"Execution time: \" + str((time.time() - start_time)) + ' ms')"
   ]
  },
  {
   "cell_type": "code",
   "execution_count": 229,
   "metadata": {},
   "outputs": [
    {
     "name": "stdout",
     "output_type": "stream",
     "text": [
      "Test_accuracy:  0.9779179810725552\n"
     ]
    }
   ],
   "source": [
    "print('Test_accuracy: ',grid.score(test_set.loc[:,'kurt':'mindom'],test_set['label']))"
   ]
  },
  {
   "cell_type": "code",
   "execution_count": 230,
   "metadata": {},
   "outputs": [
    {
     "name": "stdout",
     "output_type": "stream",
     "text": [
      "Precision_score:  [0.984026 0.971963] \n",
      "Recall Score: [0.971609 0.984227] \n",
      "f_score [0.977778 0.978056] \n",
      " The overall f1_score: 0.9780564263322884  \n"
     ]
    }
   ],
   "source": [
    "y_pred=grid.predict(test_set.loc[:,'kurt':'mindom'])\n",
    "p,r,f,s = precision_recall_fscore_support(test_set['label'], y_pred)\n",
    "print('Precision_score: ',p,'\\nRecall Score:',r,'\\nf_score',f,'\\n The overall f1_score: {}  '\n",
    "      .format(f1_score(test_set['label'],y_pred)))"
   ]
  },
  {
   "cell_type": "code",
   "execution_count": 231,
   "metadata": {},
   "outputs": [
    {
     "data": {
      "text/plain": [
       "(8, 4)"
      ]
     },
     "execution_count": 231,
     "metadata": {},
     "output_type": "execute_result"
    }
   ],
   "source": [
    "Label_probabability = pd.Series()\n",
    "svcLinearRandom.fit(train_set.loc[:,'kurt':'mindom'],train_set['label'])\n",
    "for each in svcLinearRandom.predict_proba((test_set.loc[:,'kurt':'mindom'])):\n",
    "    Label_probabability = Label_probabability.append(pd.Series(np.amax(each)))\n",
    "Label_probabability_DTFrame = pd.concat([Label_probabability.reset_index(drop=True),\n",
    "                                         test_set['label'].reset_index(drop=True),\n",
    "                                         pd.Series(svcLinearRandom.predict(test_set.loc[:,'kurt':'mindom']))],axis=1,\n",
    "                                        keys=['Probability','Actual','Predicted'])\n",
    "Label_probabability_DTFrame['SameOrNot']=abs(Label_probabability_DTFrame.Actual- Label_probabability_DTFrame.Predicted)\n",
    "Label_probabability_DTFrame[Label_probabability_DTFrame.SameOrNot!=0].shape"
   ]
  },
  {
   "cell_type": "code",
   "execution_count": 151,
   "metadata": {},
   "outputs": [
    {
     "data": {
      "text/plain": [
       "<matplotlib.legend.Legend at 0x282c4c8f4a8>"
      ]
     },
     "execution_count": 151,
     "metadata": {},
     "output_type": "execute_result"
    },
    {
     "data": {
      "image/png": "[encoded data removed]",
      "text/plain": [
       "<Figure size 1152x720 with 1 Axes>"
      ]
     },
     "metadata": {},
     "output_type": "display_data"
    }
   ],
   "source": [
    "plt.figure(figsize=(16,10))\n",
    "plt.scatter(Label_probabability_DTFrame.query('SameOrNot == 0').Probability,Label_probabability_DTFrame.query('SameOrNot == 0').Probability,\n",
    "            color='y',marker='o',s=600,label='Predicted=Actual')\n",
    "plt.scatter(Label_probabability_DTFrame.query('SameOrNot == 1').Probability,Label_probabability_DTFrame.query('SameOrNot == 1').Probability,\n",
    "            color='r',marker='o',s=600,label='Predicted!=Actual')\n",
    "plt.plot(pd.Series([0.5,1]),pd.Series([0.78,0.78]),color='b')\n",
    "plt.legend(loc='best',fontsize=20)"
   ]
  },
  {
   "cell_type": "markdown",
   "metadata": {},
   "source": [
    "# SVM rbf"
   ]
  },
  {
   "cell_type": "markdown",
   "metadata": {},
   "source": [
    "## Taking kernel as rbf and taking different values gamma"
   ]
  },
  {
   "cell_type": "code",
   "execution_count": 154,
   "metadata": {},
   "outputs": [
    {
     "data": {
      "text/html": [
       "<div>\n",
       "<style scoped>\n",
       "    .dataframe tbody tr th:only-of-type {\n",
       "        vertical-align: middle;\n",
       "    }\n",
       "\n",
       "    .dataframe tbody tr th {\n",
       "        vertical-align: top;\n",
       "    }\n",
       "\n",
       "    .dataframe thead th {\n",
       "        text-align: right;\n",
       "    }\n",
       "</style>\n",
       "<table border=\"1\" class=\"dataframe\">\n",
       "  <thead>\n",
       "    <tr style=\"text-align: right;\">\n",
       "      <th></th>\n",
       "      <th>gamma_values</th>\n",
       "      <th>Accuracy_values</th>\n",
       "    </tr>\n",
       "  </thead>\n",
       "  <tbody>\n",
       "    <tr>\n",
       "      <th>0</th>\n",
       "      <td>$0.00</td>\n",
       "      <td>0.8878</td>\n",
       "    </tr>\n",
       "    <tr>\n",
       "      <th>0</th>\n",
       "      <td>$0.00</td>\n",
       "      <td>0.9552</td>\n",
       "    </tr>\n",
       "    <tr>\n",
       "      <th>0</th>\n",
       "      <td>$0.01</td>\n",
       "      <td>0.9682</td>\n",
       "    </tr>\n",
       "    <tr>\n",
       "      <th>0</th>\n",
       "      <td>$0.10</td>\n",
       "      <td>0.9631</td>\n",
       "    </tr>\n",
       "    <tr>\n",
       "      <th>0</th>\n",
       "      <td>$1.00</td>\n",
       "      <td>0.9072</td>\n",
       "    </tr>\n",
       "    <tr>\n",
       "      <th>0</th>\n",
       "      <td>$10.00</td>\n",
       "      <td>0.5955</td>\n",
       "    </tr>\n",
       "    <tr>\n",
       "      <th>0</th>\n",
       "      <td>$100.00</td>\n",
       "      <td>0.5</td>\n",
       "    </tr>\n",
       "  </tbody>\n",
       "</table>\n",
       "</div>"
      ],
      "text/plain": [
       "   gamma_values Accuracy_values\n",
       "0         $0.00          0.8878\n",
       "0         $0.00          0.9552\n",
       "0         $0.01          0.9682\n",
       "0         $0.10          0.9631\n",
       "0         $1.00          0.9072\n",
       "0        $10.00          0.5955\n",
       "0       $100.00             0.5"
      ]
     },
     "execution_count": 154,
     "metadata": {},
     "output_type": "execute_result"
    }
   ],
   "source": [
    "from sklearn.cross_validation import cross_val_score\n",
    "from sklearn.svm import SVC\n",
    "from sklearn.preprocessing import StandardScaler\n",
    "X=StandardScaler().fit_transform(df1.iloc[:,:-1])\n",
    "C_List=pd.Series()\n",
    "Acc_List=pd.Series()\n",
    "DTFrame=pd.DataFrame()\n",
    "gamma_range=[0.0001,0.001,0.01,0.1,1,10,100]\n",
    "for i in gamma_range:\n",
    "    svcCrossRBF = SVC(kernel='rbf',gamma=i)\n",
    "    scores=cross_val_score(svcCrossRBF,X,df1.iloc[:,-1].values,scoring='accuracy',cv=10)\n",
    "    C_List = C_List.append(pd.Series(i))\n",
    "    Acc_List = Acc_List.append(pd.Series(round(scores.mean(),4)))\n",
    "DTFrame= pd.concat([C_List,Acc_List],axis=1,keys=['gamma_values','Accuracy_values'])\n",
    "DTFrame['Accuracy_values'] = DTFrame['Accuracy_values'].apply(lambda x : str(x).replace('$',''))\n",
    "DTFrame"
   ]
  },
  {
   "cell_type": "code",
   "execution_count": 137,
   "metadata": {},
   "outputs": [
    {
     "data": {
      "text/plain": [
       "Text(0,0.5,'Cross-Validated Accuracy')"
      ]
     },
     "execution_count": 137,
     "metadata": {},
     "output_type": "execute_result"
    },
    {
     "data": {
      "image/png": "[encoded data removed]",
      "text/plain": [
       "<Figure size 432x288 with 1 Axes>"
      ]
     },
     "metadata": {},
     "output_type": "display_data"
    }
   ],
   "source": [
    "sns.lineplot(x=C_List,y=Acc_List)\n",
    "plt.xlabel('Value of gamma for SVC ')\n",
    "plt.ylabel('Cross-Validated Accuracy')"
   ]
  },
  {
   "cell_type": "markdown",
   "metadata": {},
   "source": [
    "## Taking the  gamma value for highest accuracy and putting that in RandomizedSearchCV"
   ]
  },
  {
   "cell_type": "code",
   "execution_count": 138,
   "metadata": {},
   "outputs": [
    {
     "name": "stdout",
     "output_type": "stream",
     "text": [
      "grid best score:  for class weight 0 0.5\n",
      "grid best parameters:  {'random_state': 5, 'kernel': 'rbf', 'gamma': 0.01, 'class_weight': {0: 0}, 'C': 1.0}\n",
      "grid best score:  for class weight 1 0.7052091554853985\n",
      "grid best parameters:  {'random_state': 13, 'kernel': 'rbf', 'gamma': 0.01, 'class_weight': {0: 1}, 'C': 1.0}\n",
      "grid best score:  for class weight 2 0.6606156274664562\n",
      "grid best parameters:  {'random_state': 5, 'kernel': 'rbf', 'gamma': 0.01, 'class_weight': {0: 2}, 'C': 1.0}\n",
      "grid best score:  for class weight 3 0.5868192580899764\n",
      "grid best parameters:  {'random_state': 10, 'kernel': 'rbf', 'gamma': 0.01, 'class_weight': {0: 3}, 'C': 1.0}\n",
      "grid best score:  for class weight 4 0.5189423835832676\n",
      "grid best parameters:  {'random_state': 5, 'kernel': 'rbf', 'gamma': 0.01, 'class_weight': {0: 4}, 'C': 1.0}\n",
      "grid best score:  for class weight 5 0.5189423835832676\n",
      "grid best parameters:  {'random_state': 5, 'kernel': 'rbf', 'gamma': 0.01, 'class_weight': {0: 5}, 'C': 1.0}\n",
      "grid best score:  for class weight 6 0.5189423835832676\n",
      "grid best parameters:  {'random_state': 5, 'kernel': 'rbf', 'gamma': 0.01, 'class_weight': {0: 6}, 'C': 1.0}\n",
      "grid best score:  for class weight 7 0.5189423835832676\n",
      "grid best parameters:  {'random_state': 10, 'kernel': 'rbf', 'gamma': 0.01, 'class_weight': {0: 7}, 'C': 1.0}\n",
      "grid best score:  for class weight 8 0.5189423835832676\n",
      "grid best parameters:  {'random_state': 5, 'kernel': 'rbf', 'gamma': 0.01, 'class_weight': {0: 8}, 'C': 1.0}\n",
      "grid best score:  for class weight 9 0.5189423835832676\n",
      "grid best parameters:  {'random_state': 5, 'kernel': 'rbf', 'gamma': 0.01, 'class_weight': {0: 9}, 'C': 1.0}\n"
     ]
    }
   ],
   "source": [
    "from sklearn.model_selection import GridSearchCV,RandomizedSearchCV,train_test_split\n",
    "from sklearn.svm import SVC\n",
    "from sklearn.preprocessing import LabelEncoder,StandardScaler\n",
    "import time\n",
    "dfnew['label'] = (LabelEncoder().fit_transform(dfnew['label']))\n",
    "train_set,test_set = train_test_split(dfnew,random_state=9,test_size=0.2,stratify=df['label'])\n",
    "#display(test_set.loc[:,'kurt':'sd'])\n",
    "svc = SVC(probability=True)\n",
    "start_time=time.time()\n",
    "for i in range(0,10):\n",
    "    params=dict(C=[0.2,0.3,0.6,1.0],kernel=['rbf'],random_state=[5,10,13,45],gamma=[0.01],class_weight=[{0:i}])\n",
    "    grid=RandomizedSearchCV(svc,params,cv=5).fit(train_set.loc[:,'kurt':'mindom'],train_set['label'])\n",
    "    print('grid best score:  for class weight '+ str(i),grid.best_score_)\n",
    "    print('grid best parameters: ',grid.best_params_)"
   ]
  },
  {
   "cell_type": "markdown",
   "metadata": {},
   "source": [
    "### Since the accuracy for class_weight 1 is the best we are going ahead with class_weight:1"
   ]
  },
  {
   "cell_type": "code",
   "execution_count": 155,
   "metadata": {},
   "outputs": [
    {
     "name": "stdout",
     "output_type": "stream",
     "text": [
      "grid best score:  for class weight  0.7154696132596685\n",
      "grid best parameters:  {'random_state': 5, 'kernel': 'rbf', 'class_weight': {0: 1}, 'C': 1.0}\n",
      "Execution time: 72.78450512886047 ms\n"
     ]
    }
   ],
   "source": [
    "from sklearn.model_selection import GridSearchCV,RandomizedSearchCV,train_test_split\n",
    "from sklearn.svm import SVC\n",
    "from sklearn.preprocessing import LabelEncoder,StandardScaler\n",
    "import time\n",
    "dfnew['label'] = (LabelEncoder().fit_transform(dfnew['label']))\n",
    "train_set,test_set = train_test_split(dfnew,random_state=9,test_size=0.2,stratify=df['label'])\n",
    "#display(test_set.loc[:,'kurt':'sd'])\n",
    "svc = SVC(probability=True)\n",
    "start_time=time.time()\n",
    "params=dict(C=[0.2,0.3,0.6,1.0],kernel=['rbf'],random_state=[5,10,13,45],class_weight=[{0:1}])\n",
    "grid=RandomizedSearchCV(svc,params,cv=5).fit(train_set.loc[:,'kurt':'mindom'],train_set['label'])\n",
    "print('grid best score:  for class weight ',grid.best_score_)\n",
    "print('grid best parameters: ',grid.best_params_)\n",
    "print(\"Execution time: \" + str((time.time() - start_time)) + ' ms')"
   ]
  },
  {
   "cell_type": "code",
   "execution_count": 128,
   "metadata": {},
   "outputs": [
    {
     "name": "stdout",
     "output_type": "stream",
     "text": [
      "Test_accuracy:  0.7350157728706624\n"
     ]
    }
   ],
   "source": [
    "print('Test_accuracy: ',grid.score(test_set.loc[:,'kurt':'mindom'],test_set['label']))"
   ]
  },
  {
   "cell_type": "code",
   "execution_count": 131,
   "metadata": {},
   "outputs": [
    {
     "name": "stdout",
     "output_type": "stream",
     "text": [
      "Precision_score:  [0.757785 0.715942] \n",
      "Recall Score: [0.690852 0.779180] \n",
      "f_score [0.722772 0.746224] \n",
      " The overall f1_score: 0.7462235649546827\n"
     ]
    }
   ],
   "source": [
    "y_pred = grid.predict(test_set.loc[:,'kurt':'mindom'])\n",
    "p,r,f,s = precision_recall_fscore_support(test_set['label'], y_pred)\n",
    "print('Precision_score: ',p,'\\nRecall Score:',r,'\\nf_score',f,'\\n The overall f1_score: {}'.format(f1_score(test_set['label'],y_pred)))"
   ]
  },
  {
   "cell_type": "code",
   "execution_count": 165,
   "metadata": {},
   "outputs": [
    {
     "data": {
      "text/html": [
       "<div>\n",
       "<style scoped>\n",
       "    .dataframe tbody tr th:only-of-type {\n",
       "        vertical-align: middle;\n",
       "    }\n",
       "\n",
       "    .dataframe tbody tr th {\n",
       "        vertical-align: top;\n",
       "    }\n",
       "\n",
       "    .dataframe thead th {\n",
       "        text-align: right;\n",
       "    }\n",
       "</style>\n",
       "<table border=\"1\" class=\"dataframe\">\n",
       "  <thead>\n",
       "    <tr style=\"text-align: right;\">\n",
       "      <th></th>\n",
       "      <th>Probability</th>\n",
       "      <th>Actual</th>\n",
       "      <th>Predicted</th>\n",
       "      <th>SameOrNot</th>\n",
       "    </tr>\n",
       "  </thead>\n",
       "  <tbody>\n",
       "    <tr>\n",
       "      <th>0</th>\n",
       "      <td>$0.74</td>\n",
       "      <td>1</td>\n",
       "      <td>1</td>\n",
       "      <td>0</td>\n",
       "    </tr>\n",
       "    <tr>\n",
       "      <th>1</th>\n",
       "      <td>$0.74</td>\n",
       "      <td>1</td>\n",
       "      <td>1</td>\n",
       "      <td>0</td>\n",
       "    </tr>\n",
       "    <tr>\n",
       "      <th>2</th>\n",
       "      <td>$0.64</td>\n",
       "      <td>1</td>\n",
       "      <td>1</td>\n",
       "      <td>0</td>\n",
       "    </tr>\n",
       "    <tr>\n",
       "      <th>3</th>\n",
       "      <td>$0.58</td>\n",
       "      <td>1</td>\n",
       "      <td>1</td>\n",
       "      <td>0</td>\n",
       "    </tr>\n",
       "    <tr>\n",
       "      <th>4</th>\n",
       "      <td>$0.55</td>\n",
       "      <td>1</td>\n",
       "      <td>1</td>\n",
       "      <td>0</td>\n",
       "    </tr>\n",
       "  </tbody>\n",
       "</table>\n",
       "</div>"
      ],
      "text/plain": [
       "   Probability  Actual  Predicted  SameOrNot\n",
       "0        $0.74       1          1          0\n",
       "1        $0.74       1          1          0\n",
       "2        $0.64       1          1          0\n",
       "3        $0.58       1          1          0\n",
       "4        $0.55       1          1          0"
      ]
     },
     "execution_count": 165,
     "metadata": {},
     "output_type": "execute_result"
    }
   ],
   "source": [
    "Label_probabability = pd.Series()\n",
    "svc.fit(train_set.loc[:,'kurt':'mindom'],train_set['label'])\n",
    "for each in svc.predict_proba((test_set.loc[:,'kurt':'mindom'])):\n",
    "    Label_probabability = Label_probabability.append(pd.Series(np.amax(each)))\n",
    "Label_probabability_DTFrame = pd.concat([Label_probabability.reset_index(drop=True),\n",
    "                                         test_set['label'].reset_index(drop=True),\n",
    "                                         pd.Series(svc.predict(test_set.loc[:,'kurt':'mindom']))],axis=1,\n",
    "                                        keys=['Probability','Actual','Predicted'])\n",
    "Label_probabability_DTFrame['SameOrNot']=abs(Label_probabability_DTFrame.Actual- Label_probabability_DTFrame.Predicted)\n",
    "Label_probabability_DTFrame.head()"
   ]
  },
  {
   "cell_type": "code",
   "execution_count": 162,
   "metadata": {},
   "outputs": [
    {
     "name": "stdout",
     "output_type": "stream",
     "text": [
      "The confusion matrix is: \n",
      "[[219  98]\n",
      " [ 70 247]]\n"
     ]
    }
   ],
   "source": [
    "from sklearn.metrics import confusion_matrix as cm\n",
    "svm_pred=grid.predict(test_set.loc[:,'kurt':'mindom'])\n",
    "matrix = cm(test_set['label'],svm_pred)\n",
    "print('The confusion matrix is: ')\n",
    "print(matrix)"
   ]
  },
  {
   "cell_type": "code",
   "execution_count": 167,
   "metadata": {},
   "outputs": [
    {
     "data": {
      "text/plain": [
       "<matplotlib.axes._subplots.AxesSubplot at 0x282c4ccbf98>"
      ]
     },
     "execution_count": 167,
     "metadata": {},
     "output_type": "execute_result"
    },
    {
     "data": {
      "image/png": "[encoded data removed]",
      "text/plain": [
       "<Figure size 432x288 with 1 Axes>"
      ]
     },
     "metadata": {},
     "output_type": "display_data"
    }
   ],
   "source": [
    "sns.boxplot(x=Label_probabability_DTFrame.SameOrNot,y=Label_probabability_DTFrame.Probability,showfliers=False)"
   ]
  },
  {
   "cell_type": "markdown",
   "metadata": {},
   "source": [
    "# SVM Poly "
   ]
  },
  {
   "cell_type": "code",
   "execution_count": 172,
   "metadata": {},
   "outputs": [
    {
     "data": {
      "text/html": [
       "<div>\n",
       "<style scoped>\n",
       "    .dataframe tbody tr th:only-of-type {\n",
       "        vertical-align: middle;\n",
       "    }\n",
       "\n",
       "    .dataframe tbody tr th {\n",
       "        vertical-align: top;\n",
       "    }\n",
       "\n",
       "    .dataframe thead th {\n",
       "        text-align: right;\n",
       "    }\n",
       "</style>\n",
       "<table border=\"1\" class=\"dataframe\">\n",
       "  <thead>\n",
       "    <tr style=\"text-align: right;\">\n",
       "      <th></th>\n",
       "      <th>poly_values</th>\n",
       "      <th>Accuracy_values</th>\n",
       "    </tr>\n",
       "  </thead>\n",
       "  <tbody>\n",
       "    <tr>\n",
       "      <th>0</th>\n",
       "      <td>2</td>\n",
       "      <td>0.8507</td>\n",
       "    </tr>\n",
       "    <tr>\n",
       "      <th>0</th>\n",
       "      <td>3</td>\n",
       "      <td>0.9458</td>\n",
       "    </tr>\n",
       "    <tr>\n",
       "      <th>0</th>\n",
       "      <td>4</td>\n",
       "      <td>0.8312</td>\n",
       "    </tr>\n",
       "    <tr>\n",
       "      <th>0</th>\n",
       "      <td>5</td>\n",
       "      <td>0.866</td>\n",
       "    </tr>\n",
       "    <tr>\n",
       "      <th>0</th>\n",
       "      <td>6</td>\n",
       "      <td>0.7748</td>\n",
       "    </tr>\n",
       "  </tbody>\n",
       "</table>\n",
       "</div>"
      ],
      "text/plain": [
       "   poly_values Accuracy_values\n",
       "0            2          0.8507\n",
       "0            3          0.9458\n",
       "0            4          0.8312\n",
       "0            5           0.866\n",
       "0            6          0.7748"
      ]
     },
     "execution_count": 172,
     "metadata": {},
     "output_type": "execute_result"
    }
   ],
   "source": [
    "from sklearn.cross_validation import cross_val_score\n",
    "from sklearn.svm import SVC\n",
    "from sklearn.preprocessing import StandardScaler\n",
    "X=StandardScaler().fit_transform(df1.iloc[:,:-1])\n",
    "C_List=pd.Series()\n",
    "Acc_List=pd.Series()\n",
    "DTFrame=pd.DataFrame()\n",
    "polyList=[2,3,4,5,6]\n",
    "for i in polyList:\n",
    "    svcCrossRBF = SVC(kernel='poly',degree=i)\n",
    "    scores=cross_val_score(svcCrossRBF,X,df1.iloc[:,-1].values,scoring='accuracy',cv=10)\n",
    "    C_List = C_List.append(pd.Series(i))\n",
    "    Acc_List = Acc_List.append(pd.Series(round(scores.mean(),4)))\n",
    "DTFrame= pd.concat([C_List,Acc_List],axis=1,keys=['poly_values','Accuracy_values'])\n",
    "DTFrame['Accuracy_values'] = DTFrame['Accuracy_values'].apply(lambda x : str(x).replace('$',''))\n",
    "DTFrame"
   ]
  },
  {
   "cell_type": "code",
   "execution_count": 176,
   "metadata": {},
   "outputs": [
    {
     "data": {
      "text/plain": [
       "Text(0,0.5,'Cross-Validated Accuracy')"
      ]
     },
     "execution_count": 176,
     "metadata": {},
     "output_type": "execute_result"
    },
    {
     "data": {
      "image/png": "[encoded data removed]",
      "text/plain": [
       "<Figure size 432x288 with 1 Axes>"
      ]
     },
     "metadata": {},
     "output_type": "display_data"
    }
   ],
   "source": [
    "sns.lineplot(x=C_List,y=Acc_List,color='red')\n",
    "plt.xlabel('degrees for SVC ')\n",
    "plt.ylabel('Cross-Validated Accuracy')"
   ]
  },
  {
   "cell_type": "code",
   "execution_count": 175,
   "metadata": {},
   "outputs": [
    {
     "name": "stderr",
     "output_type": "stream",
     "text": [
      "C:\\Users\\supratik chanda\\Documents\\New folder (2)\\lib\\site-packages\\pandas\\core\\indexing.py:543: SettingWithCopyWarning: \n",
      "A value is trying to be set on a copy of a slice from a DataFrame.\n",
      "Try using .loc[row_indexer,col_indexer] = value instead\n",
      "\n",
      "See the caveats in the documentation: http://pandas.pydata.org/pandas-docs/stable/indexing.html#indexing-view-versus-copy\n",
      "  self.obj[item] = s\n"
     ]
    },
    {
     "name": "stdout",
     "output_type": "stream",
     "text": [
      "grid best score:  for class weight  0.9494869771112865\n",
      "grid best parameters:  {'random_state': 5, 'kernel': 'poly', 'degree': 3, 'class_weight': {0: 1}, 'C': 1.0}\n",
      "grid best score:  for class weight  0.9526440410418311\n",
      "grid best parameters:  {'random_state': 45, 'kernel': 'poly', 'degree': 3, 'class_weight': {0: 1}, 'C': 1.0}\n",
      "grid best score:  for class weight  0.9522494080505131\n",
      "grid best parameters:  {'random_state': 45, 'kernel': 'poly', 'degree': 3, 'class_weight': {0: 1}, 'C': 1.0}\n",
      "grid best score:  for class weight  0.9526440410418311\n",
      "grid best parameters:  {'random_state': 45, 'kernel': 'poly', 'degree': 3, 'class_weight': {0: 1}, 'C': 1.0}\n",
      "grid best score:  for class weight  0.9534333070244673\n",
      "grid best parameters:  {'random_state': 5, 'kernel': 'poly', 'degree': 3, 'class_weight': {0: 1}, 'C': 1.0}\n",
      "grid best score:  for class weight  0.9538279400157853\n",
      "grid best parameters:  {'random_state': 13, 'kernel': 'poly', 'degree': 3, 'class_weight': {0: 1}, 'C': 1.0}\n",
      "grid best score:  for class weight  0.9538279400157853\n",
      "grid best parameters:  {'random_state': 45, 'kernel': 'poly', 'degree': 3, 'class_weight': {0: 1}, 'C': 1.0}\n"
     ]
    }
   ],
   "source": [
    "from sklearn.model_selection import GridSearchCV,RandomizedSearchCV,train_test_split\n",
    "from sklearn.svm import SVC\n",
    "from sklearn.preprocessing import LabelEncoder,StandardScaler\n",
    "import time\n",
    "dfnew['label'] = (LabelEncoder().fit_transform(dfnew['label']))\n",
    "train_set,test_set = train_test_split(dfnew,random_state=9,test_size=0.2,stratify=df['label'])\n",
    "sc=StandardScaler()\n",
    "train_set.loc[:,'kurt':'mindom']= sc.fit_transform(train_set.loc[:,'kurt':'mindom'])\n",
    "#display(test_set.loc[:,'kurt':'sd'])\n",
    "svc = SVC(probability=True)\n",
    "start_time=time.time()\n",
    "params=dict(C=[0.6,1.0],kernel=['poly'],degree=[2,3,4],random_state=[5,10,13,45],class_weight=[{0:1}])\n",
    "for i in range(3,10):\n",
    "    grid=RandomizedSearchCV(svc,params,cv=i).fit(train_set.loc[:,'kurt':'mindom'],train_set['label'])\n",
    "    print('grid best score:  for class weight ',grid.best_score_)\n",
    "    print('grid best parameters: ',grid.best_params_)"
   ]
  },
  {
   "cell_type": "code",
   "execution_count": null,
   "metadata": {},
   "outputs": [],
   "source": [
    "# 5 fold Cross validation produces the best score"
   ]
  },
  {
   "cell_type": "code",
   "execution_count": 180,
   "metadata": {},
   "outputs": [
    {
     "name": "stderr",
     "output_type": "stream",
     "text": [
      "C:\\Users\\supratik chanda\\Documents\\New folder (2)\\lib\\site-packages\\pandas\\core\\indexing.py:543: SettingWithCopyWarning: \n",
      "A value is trying to be set on a copy of a slice from a DataFrame.\n",
      "Try using .loc[row_indexer,col_indexer] = value instead\n",
      "\n",
      "See the caveats in the documentation: http://pandas.pydata.org/pandas-docs/stable/indexing.html#indexing-view-versus-copy\n",
      "  self.obj[item] = s\n"
     ]
    },
    {
     "name": "stdout",
     "output_type": "stream",
     "text": [
      "grid best score:  for class weight  0.9696132596685083\n",
      "grid best parameters:  {'random_state': 10, 'kernel': 'poly', 'degree': 1, 'class_weight': {0: 1}, 'C': 1.0}\n",
      "Execution time: 23.117100954055786 ms\n"
     ]
    }
   ],
   "source": [
    "from sklearn.model_selection import GridSearchCV,RandomizedSearchCV,train_test_split\n",
    "from sklearn.svm import SVC\n",
    "from sklearn.preprocessing import LabelEncoder,StandardScaler\n",
    "import time\n",
    "dfnew['label'] = (LabelEncoder().fit_transform(dfnew['label']))\n",
    "train_set,test_set = train_test_split(dfnew,random_state=5,test_size=0.2,stratify=df['label'])\n",
    "sc=StandardScaler()\n",
    "train_set.loc[:,'kurt':'mindom']= sc.fit_transform(train_set.loc[:,'kurt':'mindom'])\n",
    "#display(test_set.loc[:,'kurt':'sd'])\n",
    "svc1 = SVC(probability=True)\n",
    "start_time=time.time()\n",
    "params=dict(C=[0.6,1.0],kernel=['poly'],degree=[1,2,3,4],random_state=[5,10,13,45],class_weight=[{0:1}])\n",
    "grid=RandomizedSearchCV(svc1,params,cv=5).fit(train_set.loc[:,'kurt':'mindom'],train_set['label'])\n",
    "print('grid best score:  for class weight ',grid.best_score_)\n",
    "print('grid best parameters: ',grid.best_params_)\n",
    "print(\"Execution time: \" + str((time.time() - start_time)) + ' ms')"
   ]
  },
  {
   "cell_type": "code",
   "execution_count": 181,
   "metadata": {},
   "outputs": [
    {
     "name": "stdout",
     "output_type": "stream",
     "text": [
      "Test_accuracy:  0.9747634069400631\n"
     ]
    },
    {
     "name": "stderr",
     "output_type": "stream",
     "text": [
      "C:\\Users\\supratik chanda\\Documents\\New folder (2)\\lib\\site-packages\\pandas\\core\\indexing.py:543: SettingWithCopyWarning: \n",
      "A value is trying to be set on a copy of a slice from a DataFrame.\n",
      "Try using .loc[row_indexer,col_indexer] = value instead\n",
      "\n",
      "See the caveats in the documentation: http://pandas.pydata.org/pandas-docs/stable/indexing.html#indexing-view-versus-copy\n",
      "  self.obj[item] = s\n"
     ]
    }
   ],
   "source": [
    "test_set.loc[:,'kurt':'mindom']=sc.transform(test_set.loc[:,'kurt':'mindom'])\n",
    "print('Test_accuracy: ',grid.score(test_set.loc[:,'kurt':'mindom'],test_set['label']))"
   ]
  },
  {
   "cell_type": "code",
   "execution_count": 182,
   "metadata": {},
   "outputs": [
    {
     "name": "stdout",
     "output_type": "stream",
     "text": [
      "The test dataset confusion_matrix is :\n",
      " [[314   3]\n",
      " [ 10 307]]\n"
     ]
    }
   ],
   "source": [
    "from sklearn.metrics import confusion_matrix,precision_recall_fscore_support,f1_score\n",
    "from sklearn.preprocessing import LabelEncoder\n",
    "dfnew['label'] = (LabelEncoder().fit_transform(dfnew['label']))\n",
    "#display(test_set.loc[:,'kurt':'sd'])\n",
    "svc1.fit(train_set.loc[:,'kurt':'mindom'],train_set['label'])\n",
    "y_pred = svc1.predict(test_set.loc[:,'kurt':'mindom'])\n",
    "print('The test dataset confusion_matrix is :\\n',confusion_matrix(test_set['label'],y_pred))"
   ]
  },
  {
   "cell_type": "code",
   "execution_count": 183,
   "metadata": {},
   "outputs": [
    {
     "data": {
      "text/html": [
       "<div>\n",
       "<style scoped>\n",
       "    .dataframe tbody tr th:only-of-type {\n",
       "        vertical-align: middle;\n",
       "    }\n",
       "\n",
       "    .dataframe tbody tr th {\n",
       "        vertical-align: top;\n",
       "    }\n",
       "\n",
       "    .dataframe thead th {\n",
       "        text-align: right;\n",
       "    }\n",
       "</style>\n",
       "<table border=\"1\" class=\"dataframe\">\n",
       "  <thead>\n",
       "    <tr style=\"text-align: right;\">\n",
       "      <th></th>\n",
       "      <th>Probability</th>\n",
       "      <th>Actual</th>\n",
       "      <th>Predicted</th>\n",
       "      <th>Sameornot</th>\n",
       "    </tr>\n",
       "  </thead>\n",
       "  <tbody>\n",
       "    <tr>\n",
       "      <th>0</th>\n",
       "      <td>$0.99</td>\n",
       "      <td>0</td>\n",
       "      <td>0</td>\n",
       "      <td>0</td>\n",
       "    </tr>\n",
       "    <tr>\n",
       "      <th>1</th>\n",
       "      <td>$0.95</td>\n",
       "      <td>1</td>\n",
       "      <td>1</td>\n",
       "      <td>0</td>\n",
       "    </tr>\n",
       "    <tr>\n",
       "      <th>2</th>\n",
       "      <td>$0.65</td>\n",
       "      <td>1</td>\n",
       "      <td>1</td>\n",
       "      <td>0</td>\n",
       "    </tr>\n",
       "    <tr>\n",
       "      <th>3</th>\n",
       "      <td>$1.00</td>\n",
       "      <td>0</td>\n",
       "      <td>0</td>\n",
       "      <td>0</td>\n",
       "    </tr>\n",
       "    <tr>\n",
       "      <th>4</th>\n",
       "      <td>$0.99</td>\n",
       "      <td>0</td>\n",
       "      <td>0</td>\n",
       "      <td>0</td>\n",
       "    </tr>\n",
       "  </tbody>\n",
       "</table>\n",
       "</div>"
      ],
      "text/plain": [
       "   Probability  Actual  Predicted  Sameornot\n",
       "0        $0.99       0          0          0\n",
       "1        $0.95       1          1          0\n",
       "2        $0.65       1          1          0\n",
       "3        $1.00       0          0          0\n",
       "4        $0.99       0          0          0"
      ]
     },
     "execution_count": 183,
     "metadata": {},
     "output_type": "execute_result"
    }
   ],
   "source": [
    "Label_probabability = pd.Series()\n",
    "for each in svc1.predict_proba((test_set.loc[:,'kurt':'mindom'])):\n",
    "    Label_probabability = Label_probabability.append(pd.Series(np.amax(each)))\n",
    "Label_probabability_DTFrame = pd.concat([Label_probabability.reset_index(drop=True),\n",
    "                                         test_set['label'].reset_index(drop=True),\n",
    "                                         pd.Series(svc1.predict(test_set.loc[:,'kurt':'mindom']))],axis=1,\n",
    "                                        keys=['Probability','Actual','Predicted'])\n",
    "Label_probabability_DTFrame['Sameornot']=abs(Label_probabability_DTFrame.Actual - Label_probabability_DTFrame.Predicted)\n",
    "Label_probabability_DTFrame.head()"
   ]
  },
  {
   "cell_type": "code",
   "execution_count": 185,
   "metadata": {},
   "outputs": [
    {
     "data": {
      "text/html": [
       "<div>\n",
       "<style scoped>\n",
       "    .dataframe tbody tr th:only-of-type {\n",
       "        vertical-align: middle;\n",
       "    }\n",
       "\n",
       "    .dataframe tbody tr th {\n",
       "        vertical-align: top;\n",
       "    }\n",
       "\n",
       "    .dataframe thead th {\n",
       "        text-align: right;\n",
       "    }\n",
       "</style>\n",
       "<table border=\"1\" class=\"dataframe\">\n",
       "  <thead>\n",
       "    <tr style=\"text-align: right;\">\n",
       "      <th></th>\n",
       "      <th>Probability</th>\n",
       "      <th>Actual</th>\n",
       "      <th>Predicted</th>\n",
       "      <th>Sameornot</th>\n",
       "    </tr>\n",
       "  </thead>\n",
       "  <tbody>\n",
       "    <tr>\n",
       "      <th>10</th>\n",
       "      <td>$0.87</td>\n",
       "      <td>1</td>\n",
       "      <td>0</td>\n",
       "      <td>1</td>\n",
       "    </tr>\n",
       "    <tr>\n",
       "      <th>58</th>\n",
       "      <td>$0.95</td>\n",
       "      <td>1</td>\n",
       "      <td>0</td>\n",
       "      <td>1</td>\n",
       "    </tr>\n",
       "    <tr>\n",
       "      <th>59</th>\n",
       "      <td>$0.73</td>\n",
       "      <td>1</td>\n",
       "      <td>0</td>\n",
       "      <td>1</td>\n",
       "    </tr>\n",
       "    <tr>\n",
       "      <th>185</th>\n",
       "      <td>$0.60</td>\n",
       "      <td>0</td>\n",
       "      <td>1</td>\n",
       "      <td>1</td>\n",
       "    </tr>\n",
       "    <tr>\n",
       "      <th>189</th>\n",
       "      <td>$0.65</td>\n",
       "      <td>0</td>\n",
       "      <td>1</td>\n",
       "      <td>1</td>\n",
       "    </tr>\n",
       "    <tr>\n",
       "      <th>253</th>\n",
       "      <td>$0.99</td>\n",
       "      <td>1</td>\n",
       "      <td>0</td>\n",
       "      <td>1</td>\n",
       "    </tr>\n",
       "    <tr>\n",
       "      <th>256</th>\n",
       "      <td>$0.59</td>\n",
       "      <td>1</td>\n",
       "      <td>0</td>\n",
       "      <td>1</td>\n",
       "    </tr>\n",
       "    <tr>\n",
       "      <th>267</th>\n",
       "      <td>$0.54</td>\n",
       "      <td>1</td>\n",
       "      <td>0</td>\n",
       "      <td>1</td>\n",
       "    </tr>\n",
       "    <tr>\n",
       "      <th>296</th>\n",
       "      <td>$0.58</td>\n",
       "      <td>0</td>\n",
       "      <td>1</td>\n",
       "      <td>1</td>\n",
       "    </tr>\n",
       "    <tr>\n",
       "      <th>487</th>\n",
       "      <td>$0.95</td>\n",
       "      <td>1</td>\n",
       "      <td>0</td>\n",
       "      <td>1</td>\n",
       "    </tr>\n",
       "    <tr>\n",
       "      <th>555</th>\n",
       "      <td>$0.75</td>\n",
       "      <td>1</td>\n",
       "      <td>0</td>\n",
       "      <td>1</td>\n",
       "    </tr>\n",
       "    <tr>\n",
       "      <th>578</th>\n",
       "      <td>$1.00</td>\n",
       "      <td>1</td>\n",
       "      <td>0</td>\n",
       "      <td>1</td>\n",
       "    </tr>\n",
       "    <tr>\n",
       "      <th>588</th>\n",
       "      <td>$0.88</td>\n",
       "      <td>1</td>\n",
       "      <td>0</td>\n",
       "      <td>1</td>\n",
       "    </tr>\n",
       "  </tbody>\n",
       "</table>\n",
       "</div>"
      ],
      "text/plain": [
       "     Probability  Actual  Predicted  Sameornot\n",
       "10         $0.87       1          0          1\n",
       "58         $0.95       1          0          1\n",
       "59         $0.73       1          0          1\n",
       "185        $0.60       0          1          1\n",
       "189        $0.65       0          1          1\n",
       "253        $0.99       1          0          1\n",
       "256        $0.59       1          0          1\n",
       "267        $0.54       1          0          1\n",
       "296        $0.58       0          1          1\n",
       "487        $0.95       1          0          1\n",
       "555        $0.75       1          0          1\n",
       "578        $1.00       1          0          1\n",
       "588        $0.88       1          0          1"
      ]
     },
     "execution_count": 185,
     "metadata": {},
     "output_type": "execute_result"
    }
   ],
   "source": [
    "Label_probabability_DTFrame[Label_probabability_DTFrame.Sameornot !=0]"
   ]
  },
  {
   "cell_type": "code",
   "execution_count": 184,
   "metadata": {},
   "outputs": [
    {
     "data": {
      "text/plain": [
       "<matplotlib.axes._subplots.AxesSubplot at 0x282c4ee8e48>"
      ]
     },
     "execution_count": 184,
     "metadata": {},
     "output_type": "execute_result"
    },
    {
     "data": {
      "image/png": "[encoded data removed]",
      "text/plain": [
       "<Figure size 432x288 with 1 Axes>"
      ]
     },
     "metadata": {},
     "output_type": "display_data"
    }
   ],
   "source": [
    "sns.boxplot(x=Label_probabability_DTFrame.Sameornot,y=Label_probabability_DTFrame.Probability)"
   ]
  },
  {
   "cell_type": "code",
   "execution_count": null,
   "metadata": {},
   "outputs": [],
   "source": []
  }
 ],
 "metadata": {
  "kernelspec": {
   "display_name": "Python 3",
   "language": "python",
   "name": "python3"
  },
  "language_info": {
   "codemirror_mode": {
    "name": "ipython",
    "version": 3
   },
   "file_extension": ".py",
   "mimetype": "text/x-python",
   "name": "python",
   "nbconvert_exporter": "python",
   "pygments_lexer": "ipython3",
   "version": "3.6.5"
  }
 },
 "nbformat": 4,
 "nbformat_minor": 2
}
